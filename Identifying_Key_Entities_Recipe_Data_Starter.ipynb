{
 "cells": [
  {
   "cell_type": "markdown",
   "metadata": {
    "id": "42UBKEnat_xo"
   },
   "source": [
    "# **Identifying Key Entities in Recipe Data**"
   ]
  },
  {
   "cell_type": "markdown",
   "metadata": {
    "id": "Pme3h_fduOKh"
   },
   "source": [
    "\n",
    "**Business Objective**:\n",
    "The goal of this assignment is to train a Named Entity Recognition (NER) model using Conditional Random Fields (CRF) to extract key entities from recipe data. The model will classify words into predefined categories such as ingredients, quantities and units, enabling the creation of a structured database of recipes and ingredients that can be used to power advanced features in recipe management systems, dietary tracking apps, or e-commerce platforms."
   ]
  },
  {
   "cell_type": "markdown",
   "metadata": {
    "id": "FXzoAs8evNG0"
   },
   "source": [
    "### **Data Description**\n",
    "The given data is in JSON format, representing a **structured recipe ingredient list** with **Named Entity Recognition (NER) labels**. Below is a breakdown of the data fields:\n",
    "\n",
    "```json\n",
    "[\n",
    "    {\n",
    "        \"input\": \"6 Karela Bitter Gourd Pavakkai Salt 1 Onion 3 tablespoon Gram flour besan 2 teaspoons Turmeric powder Haldi Red Chilli Cumin seeds Jeera Coriander Powder Dhania Amchur Dry Mango Sunflower Oil\",\n",
    "        \"pos\": \"quantity ingredient ingredient ingredient ingredient ingredient quantity ingredient quantity unit ingredient ingredient ingredient quantity unit ingredient ingredient ingredient ingredient ingredient ingredient ingredient ingredient ingredient ingredient ingredient ingredient ingredient ingredient ingredient ingredient\"\n",
    "    },\n",
    "    {\n",
    "      \"input\": \"2-1/2 cups rice cooked 3 tomatoes teaspoons BC Belle Bhat powder 1 teaspoon chickpea lentils 1/2 cumin seeds white urad dal mustard green chilli dry red 2 cashew or peanuts 1-1/2 tablespoon oil asafoetida\",\n",
    "      \"pos\": \"quantity unit ingredient ingredient quantity ingredient unit ingredient ingredient ingredient ingredient quantity unit ingredient ingredient quantity ingredient ingredient ingredient ingredient ingredient ingredient ingredient ingredient ingredient ingredient quantity ingredient ingredient ingredient quantity unit ingredient ingredient\"\n",
    "    }\n",
    "]\n"
   ]
  },
  {
   "cell_type": "markdown",
   "metadata": {
    "id": "LSDcNvJlwC6N"
   },
   "source": [
    "| **Key**  | **Description**  |\n",
    "|----------|-----------------|\n",
    "| `input`  | Contains a raw ingredient list from a recipe. |\n",
    "| `pos`    | Represents the corresponding part-of-speech (POS) tags or NER labels, identifying quantities, ingredients, and units. |\n"
   ]
  },
  {
   "cell_type": "markdown",
   "metadata": {
    "id": "phenosA4se1c"
   },
   "source": [
    "## **1** Import libraries"
   ]
  },
  {
   "cell_type": "markdown",
   "metadata": {
    "id": "Br-jQHin3kQX"
   },
   "source": [
    "#### **1.1** Installation of sklearn-crfsuite"
   ]
  },
  {
   "cell_type": "markdown",
   "metadata": {
    "id": "DPhaJSfCwpfa"
   },
   "source": [
    "sklearn-crfsuite is a Python wrapper for CRFsuite, a fast and efficient implementation of Conditional Random Fields (CRFs). It is designed to integrate seamlessly with scikit-learn for structured prediction tasks such as Named Entity Recognition (NER), Part-of-Speech (POS) tagging, and chunking."
   ]
  },
  {
   "cell_type": "code",
   "execution_count": 1,
   "metadata": {
    "id": "_QawokgQXAMO"
   },
   "outputs": [
    {
     "name": "stdout",
     "output_type": "stream",
     "text": [
      "Requirement already satisfied: sklearn_crfsuite==0.5.0 in ./nlp/lib/python3.9/site-packages (0.5.0)\n",
      "Requirement already satisfied: python-crfsuite>=0.9.7 in ./nlp/lib/python3.9/site-packages (from sklearn_crfsuite==0.5.0) (0.9.11)\n",
      "Requirement already satisfied: scikit-learn>=0.24.0 in ./nlp/lib/python3.9/site-packages (from sklearn_crfsuite==0.5.0) (1.6.1)\n",
      "Requirement already satisfied: tabulate>=0.4.2 in ./nlp/lib/python3.9/site-packages (from sklearn_crfsuite==0.5.0) (0.9.0)\n",
      "Requirement already satisfied: tqdm>=2.0 in ./nlp/lib/python3.9/site-packages (from sklearn_crfsuite==0.5.0) (4.67.1)\n",
      "Requirement already satisfied: numpy>=1.19.5 in ./nlp/lib/python3.9/site-packages (from scikit-learn>=0.24.0->sklearn_crfsuite==0.5.0) (2.0.2)\n",
      "Requirement already satisfied: scipy>=1.6.0 in ./nlp/lib/python3.9/site-packages (from scikit-learn>=0.24.0->sklearn_crfsuite==0.5.0) (1.13.1)\n",
      "Requirement already satisfied: joblib>=1.2.0 in ./nlp/lib/python3.9/site-packages (from scikit-learn>=0.24.0->sklearn_crfsuite==0.5.0) (1.5.1)\n",
      "Requirement already satisfied: threadpoolctl>=3.1.0 in ./nlp/lib/python3.9/site-packages (from scikit-learn>=0.24.0->sklearn_crfsuite==0.5.0) (3.6.0)\n"
     ]
    }
   ],
   "source": [
    "# installation of sklearn_crfsuite\n",
    "!pip install sklearn_crfsuite==0.5.0"
   ]
  },
  {
   "cell_type": "markdown",
   "metadata": {
    "id": "svqZwrHT3rzV"
   },
   "source": [
    "#### **1.2** Import necessary libraries"
   ]
  },
  {
   "cell_type": "code",
   "execution_count": 2,
   "metadata": {
    "id": "v2zLbaB0w1ZH"
   },
   "outputs": [],
   "source": [
    "# Import warnings\n",
    "import warnings\n",
    "warnings.filterwarnings('ignore')"
   ]
  },
  {
   "cell_type": "code",
   "execution_count": 3,
   "metadata": {
    "id": "0hlp-Ln4WsaV"
   },
   "outputs": [],
   "source": [
    "# Import necessary libraries\n",
    "import json  # For handling JSON data\n",
    "import pandas as pd  # For data manipulation and analysis\n",
    "import re  # For regular expressions (useful for text preprocessing)\n",
    "import matplotlib.pyplot as plt  # For visualisation\n",
    "import seaborn as sns  # For advanced data visualisation\n",
    "import sklearn_crfsuite  # CRF (Conditional Random Fields) implementation for sequence modeling\n",
    "import numpy as np  # For numerical computations\n",
    "# Saving and loading machine learning models\n",
    "import joblib\n",
    "import random\n",
    "import spacy\n",
    "from IPython.display import display, Markdown # For displaying well-formatted output\n",
    "\n",
    "from fractions import Fraction  # For handling fractional values in numerical data\n",
    "# Importing tools for feature engineering and model training\n",
    "from collections import Counter  # For counting occurrences of elements in a list\n",
    "from sklearn.model_selection import train_test_split  # For splitting dataset into train and test sets\n",
    "from sklearn_crfsuite import metrics  # For evaluating CRF models\n",
    "from sklearn_crfsuite.metrics import flat_classification_report\n",
    "from sklearn.utils.class_weight import compute_class_weight\n",
    "from collections import Counter\n",
    "from sklearn.metrics import confusion_matrix"
   ]
  },
  {
   "cell_type": "code",
   "execution_count": 4,
   "metadata": {
    "id": "k3_LR6N_2cli"
   },
   "outputs": [],
   "source": [
    "# Ensure pandas displays full content\n",
    "pd.set_option('display.max_colwidth', None)\n",
    "pd.set_option('display.expand_frame_repr', False)"
   ]
  },
  {
   "cell_type": "markdown",
   "metadata": {
    "id": "fUOu_u0fyMfh"
   },
   "source": [
    "## **2** Data Ingestion and Preparation <font color = red>[25 marks]</font> <br>"
   ]
  },
  {
   "cell_type": "markdown",
   "metadata": {
    "id": "-ksMVNgeyiLN"
   },
   "source": [
    "#### **2.1** *Read Recipe Data from Dataframe and prepare the data for analysis* <font color = red>[12 marks]</font> <br>\n",
    "Read the data from JSON file, print first five rows and describe the dataframe"
   ]
  },
  {
   "cell_type": "markdown",
   "metadata": {
    "id": "kxn28jL3z4GY"
   },
   "source": [
    "##### **2.1.1** **Define a *load_json_dataframe* function** <font color = red>[7 marks]</font> <br>\n",
    "\n",
    "Define a function that takes path of the ingredient_and_quantity.json file and reads it, convert it into dataframe - df and return it."
   ]
  },
  {
   "cell_type": "code",
   "execution_count": 5,
   "metadata": {
    "id": "dq6UgUYcPyOL"
   },
   "outputs": [],
   "source": [
    "# define a function to load json file to a dataframe\n",
    "\n",
    "import pandas as pd\n",
    "import json\n",
    "\n",
    "def load_ingredient_data(json_path):\n",
    "    with open(json_path, 'r', encoding='utf-8') as f:\n",
    "        data = json.load(f)\n",
    "    \n",
    "    df = pd.DataFrame(data)\n",
    "    return df\n"
   ]
  },
  {
   "cell_type": "markdown",
   "metadata": {
    "id": "1NlhkH_605IA"
   },
   "source": [
    "##### **2.1.2** **Execute the *load_json_dataframe* function** <font color = red>[2 marks]</font> <br>"
   ]
  },
  {
   "cell_type": "code",
   "execution_count": 6,
   "metadata": {
    "id": "UONMkMsrxdxB"
   },
   "outputs": [],
   "source": [
    "# read the json file by giving the file path and create a dataframe\n",
    "ingredient_data_df = load_ingredient_data(\"ingredient_and_quantity.json\")"
   ]
  },
  {
   "cell_type": "markdown",
   "metadata": {
    "id": "_1VkDbev3UHP"
   },
   "source": [
    "##### **2.1.3** **Describe the dataframe** <font color = red>[3 marks]</font> <br>\n",
    "\n",
    "Print first five rows of dataframe along with dimensions. Display the information of dataframe"
   ]
  },
  {
   "cell_type": "code",
   "execution_count": 7,
   "metadata": {
    "id": "yZFj2skZxgpl"
   },
   "outputs": [
    {
     "data": {
      "text/html": [
       "<div>\n",
       "<style scoped>\n",
       "    .dataframe tbody tr th:only-of-type {\n",
       "        vertical-align: middle;\n",
       "    }\n",
       "\n",
       "    .dataframe tbody tr th {\n",
       "        vertical-align: top;\n",
       "    }\n",
       "\n",
       "    .dataframe thead th {\n",
       "        text-align: right;\n",
       "    }\n",
       "</style>\n",
       "<table border=\"1\" class=\"dataframe\">\n",
       "  <thead>\n",
       "    <tr style=\"text-align: right;\">\n",
       "      <th></th>\n",
       "      <th>input</th>\n",
       "      <th>pos</th>\n",
       "    </tr>\n",
       "  </thead>\n",
       "  <tbody>\n",
       "    <tr>\n",
       "      <th>0</th>\n",
       "      <td>6 Karela Bitter Gourd Pavakkai Salt 1 Onion 3 tablespoon Gram flour besan 2 teaspoons Turmeric powder Haldi Red Chilli Cumin seeds Jeera Coriander Powder Dhania Amchur Dry Mango Sunflower Oil</td>\n",
       "      <td>quantity ingredient ingredient ingredient ingredient ingredient quantity ingredient quantity unit ingredient ingredient ingredient quantity unit ingredient ingredient ingredient ingredient ingredient ingredient ingredient ingredient ingredient ingredient ingredient ingredient ingredient ingredient ingredient ingredient</td>\n",
       "    </tr>\n",
       "    <tr>\n",
       "      <th>1</th>\n",
       "      <td>2-1/2 cups rice cooked 3 tomatoes teaspoons BC Belle Bhat powder 1 teaspoon chickpea lentils 1/2 cumin seeds white urad dal mustard green chilli dry red 2 cashew or peanuts 1-1/2 tablespoon oil asafoetida</td>\n",
       "      <td>quantity unit ingredient ingredient quantity ingredient unit ingredient ingredient ingredient ingredient quantity unit ingredient ingredient quantity ingredient ingredient ingredient ingredient ingredient ingredient ingredient ingredient ingredient ingredient quantity ingredient ingredient ingredient quantity unit ingredient ingredient</td>\n",
       "    </tr>\n",
       "    <tr>\n",
       "      <th>2</th>\n",
       "      <td>1-1/2 cups Rice Vermicelli Noodles Thin 1 Onion sliced 1/2 cup Carrots Gajjar chopped 1/3 Green peas Matar 2 Chillies 1/4 teaspoon Asafoetida hing Mustard seeds White Urad Dal Split Ghee sprig Curry leaves Salt Lemon juice</td>\n",
       "      <td>quantity unit ingredient ingredient ingredient ingredient quantity ingredient ingredient quantity unit ingredient ingredient ingredient quantity ingredient ingredient ingredient quantity ingredient quantity unit ingredient ingredient ingredient ingredient ingredient ingredient ingredient ingredient ingredient unit ingredient ingredient ingredient ingredient ingredient</td>\n",
       "    </tr>\n",
       "    <tr>\n",
       "      <th>3</th>\n",
       "      <td>500 grams Chicken 2 Onion chopped 1 Tomato 4 Green Chillies slit inch Ginger finely 6 cloves Garlic 1/2 teaspoon Turmeric powder Haldi Garam masala tablespoon Sesame Gingelly Oil 1/4 Methi Seeds Fenugreek Coriander Dhania Dry Red Fennel seeds Saunf cups Sorrel Leaves Gongura picked and</td>\n",
       "      <td>quantity unit ingredient quantity ingredient ingredient quantity ingredient quantity ingredient ingredient ingredient unit ingredient ingredient quantity unit ingredient quantity unit ingredient ingredient ingredient ingredient ingredient unit ingredient ingredient ingredient quantity ingredient ingredient ingredient ingredient ingredient ingredient ingredient ingredient ingredient ingredient unit ingredient ingredient ingredient ingredient ingredient</td>\n",
       "    </tr>\n",
       "    <tr>\n",
       "      <th>4</th>\n",
       "      <td>1 tablespoon chana dal white urad 2 red chillies coriander seeds 3 inches ginger onion tomato Teaspoon mustard asafoetida sprig curry</td>\n",
       "      <td>quantity unit ingredient ingredient ingredient ingredient quantity ingredient ingredient ingredient ingredient quantity unit ingredient ingredient ingredient unit ingredient ingredient unit ingredient</td>\n",
       "    </tr>\n",
       "  </tbody>\n",
       "</table>\n",
       "</div>"
      ],
      "text/plain": [
       "                                                                                                                                                                                                                                                                                            input                                                                                                                                                                                                                                                                                                                                                                                                                                                                      pos\n",
       "0                                                                                                 6 Karela Bitter Gourd Pavakkai Salt 1 Onion 3 tablespoon Gram flour besan 2 teaspoons Turmeric powder Haldi Red Chilli Cumin seeds Jeera Coriander Powder Dhania Amchur Dry Mango Sunflower Oil                                                                                                                                         quantity ingredient ingredient ingredient ingredient ingredient quantity ingredient quantity unit ingredient ingredient ingredient quantity unit ingredient ingredient ingredient ingredient ingredient ingredient ingredient ingredient ingredient ingredient ingredient ingredient ingredient ingredient ingredient ingredient\n",
       "1                                                                                    2-1/2 cups rice cooked 3 tomatoes teaspoons BC Belle Bhat powder 1 teaspoon chickpea lentils 1/2 cumin seeds white urad dal mustard green chilli dry red 2 cashew or peanuts 1-1/2 tablespoon oil asafoetida                                                                                                                        quantity unit ingredient ingredient quantity ingredient unit ingredient ingredient ingredient ingredient quantity unit ingredient ingredient quantity ingredient ingredient ingredient ingredient ingredient ingredient ingredient ingredient ingredient ingredient quantity ingredient ingredient ingredient quantity unit ingredient ingredient\n",
       "2                                                                  1-1/2 cups Rice Vermicelli Noodles Thin 1 Onion sliced 1/2 cup Carrots Gajjar chopped 1/3 Green peas Matar 2 Chillies 1/4 teaspoon Asafoetida hing Mustard seeds White Urad Dal Split Ghee sprig Curry leaves Salt Lemon juice                                                                                       quantity unit ingredient ingredient ingredient ingredient quantity ingredient ingredient quantity unit ingredient ingredient ingredient quantity ingredient ingredient ingredient quantity ingredient quantity unit ingredient ingredient ingredient ingredient ingredient ingredient ingredient ingredient ingredient unit ingredient ingredient ingredient ingredient ingredient\n",
       "3  500 grams Chicken 2 Onion chopped 1 Tomato 4 Green Chillies slit inch Ginger finely 6 cloves Garlic 1/2 teaspoon Turmeric powder Haldi Garam masala tablespoon Sesame Gingelly Oil 1/4 Methi Seeds Fenugreek Coriander Dhania Dry Red Fennel seeds Saunf cups Sorrel Leaves Gongura picked and  quantity unit ingredient quantity ingredient ingredient quantity ingredient quantity ingredient ingredient ingredient unit ingredient ingredient quantity unit ingredient quantity unit ingredient ingredient ingredient ingredient ingredient unit ingredient ingredient ingredient quantity ingredient ingredient ingredient ingredient ingredient ingredient ingredient ingredient ingredient ingredient unit ingredient ingredient ingredient ingredient ingredient\n",
       "4                                                                                                                                                           1 tablespoon chana dal white urad 2 red chillies coriander seeds 3 inches ginger onion tomato Teaspoon mustard asafoetida sprig curry                                                                                                                                                                                                                                                                 quantity unit ingredient ingredient ingredient ingredient quantity ingredient ingredient ingredient ingredient quantity unit ingredient ingredient ingredient unit ingredient ingredient unit ingredient"
      ]
     },
     "execution_count": 7,
     "metadata": {},
     "output_type": "execute_result"
    }
   ],
   "source": [
    "# display first five rows of the dataframe - df\n",
    "ingredient_data_df.head()\n"
   ]
  },
  {
   "cell_type": "code",
   "execution_count": 8,
   "metadata": {
    "id": "Y7cA28XSx1I1"
   },
   "outputs": [
    {
     "data": {
      "text/plain": [
       "(285, 2)"
      ]
     },
     "execution_count": 8,
     "metadata": {},
     "output_type": "execute_result"
    }
   ],
   "source": [
    "# print the dimensions of dataframe - df\n",
    "ingredient_data_df.shape\n"
   ]
  },
  {
   "cell_type": "code",
   "execution_count": 9,
   "metadata": {
    "id": "Q-gsbEhJx2rm",
    "scrolled": true
   },
   "outputs": [
    {
     "data": {
      "text/plain": [
       "<bound method DataFrame.info of                                                                                                                                                                                                                                                                                               input                                                                                                                                                                                                                                                                                                                                                                                                                                                                      pos\n",
       "0                                                                                                   6 Karela Bitter Gourd Pavakkai Salt 1 Onion 3 tablespoon Gram flour besan 2 teaspoons Turmeric powder Haldi Red Chilli Cumin seeds Jeera Coriander Powder Dhania Amchur Dry Mango Sunflower Oil                                                                                                                                         quantity ingredient ingredient ingredient ingredient ingredient quantity ingredient quantity unit ingredient ingredient ingredient quantity unit ingredient ingredient ingredient ingredient ingredient ingredient ingredient ingredient ingredient ingredient ingredient ingredient ingredient ingredient ingredient ingredient\n",
       "1                                                                                      2-1/2 cups rice cooked 3 tomatoes teaspoons BC Belle Bhat powder 1 teaspoon chickpea lentils 1/2 cumin seeds white urad dal mustard green chilli dry red 2 cashew or peanuts 1-1/2 tablespoon oil asafoetida                                                                                                                        quantity unit ingredient ingredient quantity ingredient unit ingredient ingredient ingredient ingredient quantity unit ingredient ingredient quantity ingredient ingredient ingredient ingredient ingredient ingredient ingredient ingredient ingredient ingredient quantity ingredient ingredient ingredient quantity unit ingredient ingredient\n",
       "2                                                                    1-1/2 cups Rice Vermicelli Noodles Thin 1 Onion sliced 1/2 cup Carrots Gajjar chopped 1/3 Green peas Matar 2 Chillies 1/4 teaspoon Asafoetida hing Mustard seeds White Urad Dal Split Ghee sprig Curry leaves Salt Lemon juice                                                                                       quantity unit ingredient ingredient ingredient ingredient quantity ingredient ingredient quantity unit ingredient ingredient ingredient quantity ingredient ingredient ingredient quantity ingredient quantity unit ingredient ingredient ingredient ingredient ingredient ingredient ingredient ingredient ingredient unit ingredient ingredient ingredient ingredient ingredient\n",
       "3    500 grams Chicken 2 Onion chopped 1 Tomato 4 Green Chillies slit inch Ginger finely 6 cloves Garlic 1/2 teaspoon Turmeric powder Haldi Garam masala tablespoon Sesame Gingelly Oil 1/4 Methi Seeds Fenugreek Coriander Dhania Dry Red Fennel seeds Saunf cups Sorrel Leaves Gongura picked and  quantity unit ingredient quantity ingredient ingredient quantity ingredient quantity ingredient ingredient ingredient unit ingredient ingredient quantity unit ingredient quantity unit ingredient ingredient ingredient ingredient ingredient unit ingredient ingredient ingredient quantity ingredient ingredient ingredient ingredient ingredient ingredient ingredient ingredient ingredient ingredient unit ingredient ingredient ingredient ingredient ingredient\n",
       "4                                                                                                                                                             1 tablespoon chana dal white urad 2 red chillies coriander seeds 3 inches ginger onion tomato Teaspoon mustard asafoetida sprig curry                                                                                                                                                                                                                                                                 quantity unit ingredient ingredient ingredient ingredient quantity ingredient ingredient ingredient ingredient quantity unit ingredient ingredient ingredient unit ingredient ingredient unit ingredient\n",
       "..                                                                                                                                                                                                                                                                                              ...                                                                                                                                                                                                                                                                                                                                                                                                                                                                      ...\n",
       "280                                                                                              2 Mooli Mullangi Radish 200 grams Paneer Homemade Cottage Cheese 1 Green Chilli 4 cloves Garlic inch Ginger teaspoon Cumin powder Sunflower Oil Salt 1/4 Turmeric Haldi cup Whole Wheat Flour Ghee                                                                                                                                                  quantity ingredient ingredient ingredient quantity unit ingredient ingredient ingredient ingredient quantity ingredient ingredient quantity unit ingredient unit ingredient unit ingredient ingredient ingredient ingredient ingredient quantity ingredient ingredient unit ingredient ingredient ingredient ingredient\n",
       "281                                                                                                                                                                                   2 cups Fresh orange juice teaspoons Ginger grated tablespoons Tea Monk Seiki Peppermint Green 4 Chilled water                                                                                                                                                                                                                                                                                                     quantity unit ingredient ingredient ingredient unit ingredient ingredient unit ingredient ingredient ingredient ingredient ingredient quantity ingredient ingredient\n",
       "282                                                                                                                  3 Potatoes Aloo 2 Green zucchini 1 tablespoon Red Chilli flakes Dried oregano Thyme Leaves Black pepper powder 1/4 cup Cheddar cheese grated 1/2 Whole Wheat Bread crumbs Salt                                                                                                                                                                 quantity ingredient ingredient quantity ingredient ingredient quantity unit ingredient ingredient ingredient ingredient ingredient ingredient ingredient ingredient ingredient ingredient quantity unit ingredient ingredient ingredient quantity ingredient ingredient ingredient ingredient ingredient\n",
       "283    1 cup Pink Masoor Dal 200 grams Drumstick Leaves Moringa Murungai Keerai 1/4 teaspoon Asafoetida hing Cumin seeds Jeera inch Ginger finely chopped Dry Red Chilli Tomato Green slit 2 teaspoons Coriander Powder Dhania 1/2 Turmeric powder Haldi Salt tablespoon Ghee Lemon juice extracted                    quantity unit ingredient ingredient ingredient quantity unit ingredient ingredient ingredient ingredient ingredient quantity unit ingredient ingredient ingredient ingredient ingredient unit ingredient ingredient ingredient ingredient ingredient ingredient ingredient ingredient ingredient quantity unit ingredient ingredient ingredient quantity ingredient ingredient ingredient ingredient unit ingredient ingredient ingredient ingredient\n",
       "284                                                                            1/2 cup Bajra Flour Jowar Whole Wheat 2 cups Methi Leaves inch Ginger 3 Green Chillies 1 tablespoon Sesame seeds teaspoons Red Chilli powder Turmeric 1/4 teaspoon Asafoetida 5 tablespoons Curd Sugar Sunflower Oil                                                                                                                                          quantity unit ingredient ingredient ingredient ingredient ingredient quantity unit ingredient ingredient unit ingredient quantity ingredient ingredient quantity unit ingredient ingredient unit ingredient ingredient ingredient ingredient quantity unit ingredient quantity unit ingredient ingredient ingredient ingredient\n",
       "\n",
       "[285 rows x 2 columns]>"
      ]
     },
     "execution_count": 9,
     "metadata": {},
     "output_type": "execute_result"
    }
   ],
   "source": [
    "# print the information of the dataframe\n",
    "ingredient_data_df.info"
   ]
  },
  {
   "cell_type": "code",
   "execution_count": 30,
   "metadata": {},
   "outputs": [
    {
     "data": {
      "text/html": [
       "<div>\n",
       "<style scoped>\n",
       "    .dataframe tbody tr th:only-of-type {\n",
       "        vertical-align: middle;\n",
       "    }\n",
       "\n",
       "    .dataframe tbody tr th {\n",
       "        vertical-align: top;\n",
       "    }\n",
       "\n",
       "    .dataframe thead th {\n",
       "        text-align: right;\n",
       "    }\n",
       "</style>\n",
       "<table border=\"1\" class=\"dataframe\">\n",
       "  <thead>\n",
       "    <tr style=\"text-align: right;\">\n",
       "      <th></th>\n",
       "      <th>input</th>\n",
       "      <th>pos</th>\n",
       "    </tr>\n",
       "  </thead>\n",
       "  <tbody>\n",
       "    <tr>\n",
       "      <th>count</th>\n",
       "      <td>285</td>\n",
       "      <td>285</td>\n",
       "    </tr>\n",
       "    <tr>\n",
       "      <th>unique</th>\n",
       "      <td>285</td>\n",
       "      <td>284</td>\n",
       "    </tr>\n",
       "    <tr>\n",
       "      <th>top</th>\n",
       "      <td>6 Karela Bitter Gourd Pavakkai Salt 1 Onion 3 tablespoon Gram flour besan 2 teaspoons Turmeric powder Haldi Red Chilli Cumin seeds Jeera Coriander Powder Dhania Amchur Dry Mango Sunflower Oil</td>\n",
       "      <td>quantity ingredient ingredient ingredient ingredient quantity unit ingredient quantity unit ingredient ingredient ingredient quantity ingredient ingredient ingredient ingredient ingredient ingredient ingredient ingredient</td>\n",
       "    </tr>\n",
       "    <tr>\n",
       "      <th>freq</th>\n",
       "      <td>1</td>\n",
       "      <td>2</td>\n",
       "    </tr>\n",
       "  </tbody>\n",
       "</table>\n",
       "</div>"
      ],
      "text/plain": [
       "                                                                                                                                                                                                  input                                                                                                                                                                                                                            pos\n",
       "count                                                                                                                                                                                               285                                                                                                                                                                                                                            285\n",
       "unique                                                                                                                                                                                              285                                                                                                                                                                                                                            284\n",
       "top     6 Karela Bitter Gourd Pavakkai Salt 1 Onion 3 tablespoon Gram flour besan 2 teaspoons Turmeric powder Haldi Red Chilli Cumin seeds Jeera Coriander Powder Dhania Amchur Dry Mango Sunflower Oil  quantity ingredient ingredient ingredient ingredient quantity unit ingredient quantity unit ingredient ingredient ingredient quantity ingredient ingredient ingredient ingredient ingredient ingredient ingredient ingredient\n",
       "freq                                                                                                                                                                                                  1                                                                                                                                                                                                                              2"
      ]
     },
     "execution_count": 30,
     "metadata": {},
     "output_type": "execute_result"
    }
   ],
   "source": [
    "ingredient_data_df.describe()"
   ]
  },
  {
   "cell_type": "markdown",
   "metadata": {
    "id": "1y18LwoqyFpk"
   },
   "source": [
    "#### **2.2** *Recipe Data Manipulation* <font color = red>[13 marks]</font> <br>\n",
    "Create derived metrics in dataframe and provide insights of the dataframe"
   ]
  },
  {
   "cell_type": "markdown",
   "metadata": {
    "id": "bhNG_XC1r4Qw"
   },
   "source": [
    "##### **2.2.1** **Create input_tokens and pos_tokens columns by splitting the input and pos from the dataframe** <font color = red>[3 marks]</font> <br>\n",
    "Split the input and pos into input_tokens and pos_tokens in the dataframe and display it in the dataframe"
   ]
  },
  {
   "cell_type": "code",
   "execution_count": 31,
   "metadata": {
    "id": "nma6uJwmXUas"
   },
   "outputs": [],
   "source": [
    "# split the input and pos into input_tokens and pos_tokens in the dataframe\n",
    "\n",
    "# Tokenize input\n",
    "# Tokenize POS\n",
    "\n",
    "ingredient_data_df['input_tokens'] = ingredient_data_df['input'].apply(lambda x: x.split())\n",
    "ingredient_data_df['pos_tokens'] = ingredient_data_df['pos'].apply(lambda x: x.split())"
   ]
  },
  {
   "cell_type": "code",
   "execution_count": 32,
   "metadata": {
    "id": "9g-ajvFBzaaf"
   },
   "outputs": [
    {
     "data": {
      "text/html": [
       "<div>\n",
       "<style scoped>\n",
       "    .dataframe tbody tr th:only-of-type {\n",
       "        vertical-align: middle;\n",
       "    }\n",
       "\n",
       "    .dataframe tbody tr th {\n",
       "        vertical-align: top;\n",
       "    }\n",
       "\n",
       "    .dataframe thead th {\n",
       "        text-align: right;\n",
       "    }\n",
       "</style>\n",
       "<table border=\"1\" class=\"dataframe\">\n",
       "  <thead>\n",
       "    <tr style=\"text-align: right;\">\n",
       "      <th></th>\n",
       "      <th>input</th>\n",
       "      <th>pos</th>\n",
       "      <th>input_tokens</th>\n",
       "      <th>pos_tokens</th>\n",
       "    </tr>\n",
       "  </thead>\n",
       "  <tbody>\n",
       "    <tr>\n",
       "      <th>0</th>\n",
       "      <td>6 Karela Bitter Gourd Pavakkai Salt 1 Onion 3 tablespoon Gram flour besan 2 teaspoons Turmeric powder Haldi Red Chilli Cumin seeds Jeera Coriander Powder Dhania Amchur Dry Mango Sunflower Oil</td>\n",
       "      <td>quantity ingredient ingredient ingredient ingredient ingredient quantity ingredient quantity unit ingredient ingredient ingredient quantity unit ingredient ingredient ingredient ingredient ingredient ingredient ingredient ingredient ingredient ingredient ingredient ingredient ingredient ingredient ingredient ingredient</td>\n",
       "      <td>[6, Karela, Bitter, Gourd, Pavakkai, Salt, 1, Onion, 3, tablespoon, Gram, flour, besan, 2, teaspoons, Turmeric, powder, Haldi, Red, Chilli, Cumin, seeds, Jeera, Coriander, Powder, Dhania, Amchur, Dry, Mango, Sunflower, Oil]</td>\n",
       "      <td>[quantity, ingredient, ingredient, ingredient, ingredient, ingredient, quantity, ingredient, quantity, unit, ingredient, ingredient, ingredient, quantity, unit, ingredient, ingredient, ingredient, ingredient, ingredient, ingredient, ingredient, ingredient, ingredient, ingredient, ingredient, ingredient, ingredient, ingredient, ingredient, ingredient]</td>\n",
       "    </tr>\n",
       "    <tr>\n",
       "      <th>1</th>\n",
       "      <td>2-1/2 cups rice cooked 3 tomatoes teaspoons BC Belle Bhat powder 1 teaspoon chickpea lentils 1/2 cumin seeds white urad dal mustard green chilli dry red 2 cashew or peanuts 1-1/2 tablespoon oil asafoetida</td>\n",
       "      <td>quantity unit ingredient ingredient quantity ingredient unit ingredient ingredient ingredient ingredient quantity unit ingredient ingredient quantity ingredient ingredient ingredient ingredient ingredient ingredient ingredient ingredient ingredient ingredient quantity ingredient ingredient ingredient quantity unit ingredient ingredient</td>\n",
       "      <td>[2-1/2, cups, rice, cooked, 3, tomatoes, teaspoons, BC, Belle, Bhat, powder, 1, teaspoon, chickpea, lentils, 1/2, cumin, seeds, white, urad, dal, mustard, green, chilli, dry, red, 2, cashew, or, peanuts, 1-1/2, tablespoon, oil, asafoetida]</td>\n",
       "      <td>[quantity, unit, ingredient, ingredient, quantity, ingredient, unit, ingredient, ingredient, ingredient, ingredient, quantity, unit, ingredient, ingredient, quantity, ingredient, ingredient, ingredient, ingredient, ingredient, ingredient, ingredient, ingredient, ingredient, ingredient, quantity, ingredient, ingredient, ingredient, quantity, unit, ingredient, ingredient]</td>\n",
       "    </tr>\n",
       "    <tr>\n",
       "      <th>2</th>\n",
       "      <td>1-1/2 cups Rice Vermicelli Noodles Thin 1 Onion sliced 1/2 cup Carrots Gajjar chopped 1/3 Green peas Matar 2 Chillies 1/4 teaspoon Asafoetida hing Mustard seeds White Urad Dal Split Ghee sprig Curry leaves Salt Lemon juice</td>\n",
       "      <td>quantity unit ingredient ingredient ingredient ingredient quantity ingredient ingredient quantity unit ingredient ingredient ingredient quantity ingredient ingredient ingredient quantity ingredient quantity unit ingredient ingredient ingredient ingredient ingredient ingredient ingredient ingredient ingredient unit ingredient ingredient ingredient ingredient ingredient</td>\n",
       "      <td>[1-1/2, cups, Rice, Vermicelli, Noodles, Thin, 1, Onion, sliced, 1/2, cup, Carrots, Gajjar, chopped, 1/3, Green, peas, Matar, 2, Chillies, 1/4, teaspoon, Asafoetida, hing, Mustard, seeds, White, Urad, Dal, Split, Ghee, sprig, Curry, leaves, Salt, Lemon, juice]</td>\n",
       "      <td>[quantity, unit, ingredient, ingredient, ingredient, ingredient, quantity, ingredient, ingredient, quantity, unit, ingredient, ingredient, ingredient, quantity, ingredient, ingredient, ingredient, quantity, ingredient, quantity, unit, ingredient, ingredient, ingredient, ingredient, ingredient, ingredient, ingredient, ingredient, ingredient, unit, ingredient, ingredient, ingredient, ingredient, ingredient]</td>\n",
       "    </tr>\n",
       "    <tr>\n",
       "      <th>3</th>\n",
       "      <td>500 grams Chicken 2 Onion chopped 1 Tomato 4 Green Chillies slit inch Ginger finely 6 cloves Garlic 1/2 teaspoon Turmeric powder Haldi Garam masala tablespoon Sesame Gingelly Oil 1/4 Methi Seeds Fenugreek Coriander Dhania Dry Red Fennel seeds Saunf cups Sorrel Leaves Gongura picked and</td>\n",
       "      <td>quantity unit ingredient quantity ingredient ingredient quantity ingredient quantity ingredient ingredient ingredient unit ingredient ingredient quantity unit ingredient quantity unit ingredient ingredient ingredient ingredient ingredient unit ingredient ingredient ingredient quantity ingredient ingredient ingredient ingredient ingredient ingredient ingredient ingredient ingredient ingredient unit ingredient ingredient ingredient ingredient ingredient</td>\n",
       "      <td>[500, grams, Chicken, 2, Onion, chopped, 1, Tomato, 4, Green, Chillies, slit, inch, Ginger, finely, 6, cloves, Garlic, 1/2, teaspoon, Turmeric, powder, Haldi, Garam, masala, tablespoon, Sesame, Gingelly, Oil, 1/4, Methi, Seeds, Fenugreek, Coriander, Dhania, Dry, Red, Fennel, seeds, Saunf, cups, Sorrel, Leaves, Gongura, picked, and]</td>\n",
       "      <td>[quantity, unit, ingredient, quantity, ingredient, ingredient, quantity, ingredient, quantity, ingredient, ingredient, ingredient, unit, ingredient, ingredient, quantity, unit, ingredient, quantity, unit, ingredient, ingredient, ingredient, ingredient, ingredient, unit, ingredient, ingredient, ingredient, quantity, ingredient, ingredient, ingredient, ingredient, ingredient, ingredient, ingredient, ingredient, ingredient, ingredient, unit, ingredient, ingredient, ingredient, ingredient, ingredient]</td>\n",
       "    </tr>\n",
       "    <tr>\n",
       "      <th>4</th>\n",
       "      <td>1 tablespoon chana dal white urad 2 red chillies coriander seeds 3 inches ginger onion tomato Teaspoon mustard asafoetida sprig curry</td>\n",
       "      <td>quantity unit ingredient ingredient ingredient ingredient quantity ingredient ingredient ingredient ingredient quantity unit ingredient ingredient ingredient unit ingredient ingredient unit ingredient</td>\n",
       "      <td>[1, tablespoon, chana, dal, white, urad, 2, red, chillies, coriander, seeds, 3, inches, ginger, onion, tomato, Teaspoon, mustard, asafoetida, sprig, curry]</td>\n",
       "      <td>[quantity, unit, ingredient, ingredient, ingredient, ingredient, quantity, ingredient, ingredient, ingredient, ingredient, quantity, unit, ingredient, ingredient, ingredient, unit, ingredient, ingredient, unit, ingredient]</td>\n",
       "    </tr>\n",
       "  </tbody>\n",
       "</table>\n",
       "</div>"
      ],
      "text/plain": [
       "                                                                                                                                                                                                                                                                                            input                                                                                                                                                                                                                                                                                                                                                                                                                                                                      pos                                                                                                                                                                                                                                                                                                                                   input_tokens                                                                                                                                                                                                                                                                                                                                                                                                                                                                                                              pos_tokens\n",
       "0                                                                                                 6 Karela Bitter Gourd Pavakkai Salt 1 Onion 3 tablespoon Gram flour besan 2 teaspoons Turmeric powder Haldi Red Chilli Cumin seeds Jeera Coriander Powder Dhania Amchur Dry Mango Sunflower Oil                                                                                                                                         quantity ingredient ingredient ingredient ingredient ingredient quantity ingredient quantity unit ingredient ingredient ingredient quantity unit ingredient ingredient ingredient ingredient ingredient ingredient ingredient ingredient ingredient ingredient ingredient ingredient ingredient ingredient ingredient ingredient                                                                                                                [6, Karela, Bitter, Gourd, Pavakkai, Salt, 1, Onion, 3, tablespoon, Gram, flour, besan, 2, teaspoons, Turmeric, powder, Haldi, Red, Chilli, Cumin, seeds, Jeera, Coriander, Powder, Dhania, Amchur, Dry, Mango, Sunflower, Oil]                                                                                                                                                        [quantity, ingredient, ingredient, ingredient, ingredient, ingredient, quantity, ingredient, quantity, unit, ingredient, ingredient, ingredient, quantity, unit, ingredient, ingredient, ingredient, ingredient, ingredient, ingredient, ingredient, ingredient, ingredient, ingredient, ingredient, ingredient, ingredient, ingredient, ingredient, ingredient]\n",
       "1                                                                                    2-1/2 cups rice cooked 3 tomatoes teaspoons BC Belle Bhat powder 1 teaspoon chickpea lentils 1/2 cumin seeds white urad dal mustard green chilli dry red 2 cashew or peanuts 1-1/2 tablespoon oil asafoetida                                                                                                                        quantity unit ingredient ingredient quantity ingredient unit ingredient ingredient ingredient ingredient quantity unit ingredient ingredient quantity ingredient ingredient ingredient ingredient ingredient ingredient ingredient ingredient ingredient ingredient quantity ingredient ingredient ingredient quantity unit ingredient ingredient                                                                                                [2-1/2, cups, rice, cooked, 3, tomatoes, teaspoons, BC, Belle, Bhat, powder, 1, teaspoon, chickpea, lentils, 1/2, cumin, seeds, white, urad, dal, mustard, green, chilli, dry, red, 2, cashew, or, peanuts, 1-1/2, tablespoon, oil, asafoetida]                                                                                                                                    [quantity, unit, ingredient, ingredient, quantity, ingredient, unit, ingredient, ingredient, ingredient, ingredient, quantity, unit, ingredient, ingredient, quantity, ingredient, ingredient, ingredient, ingredient, ingredient, ingredient, ingredient, ingredient, ingredient, ingredient, quantity, ingredient, ingredient, ingredient, quantity, unit, ingredient, ingredient]\n",
       "2                                                                  1-1/2 cups Rice Vermicelli Noodles Thin 1 Onion sliced 1/2 cup Carrots Gajjar chopped 1/3 Green peas Matar 2 Chillies 1/4 teaspoon Asafoetida hing Mustard seeds White Urad Dal Split Ghee sprig Curry leaves Salt Lemon juice                                                                                       quantity unit ingredient ingredient ingredient ingredient quantity ingredient ingredient quantity unit ingredient ingredient ingredient quantity ingredient ingredient ingredient quantity ingredient quantity unit ingredient ingredient ingredient ingredient ingredient ingredient ingredient ingredient ingredient unit ingredient ingredient ingredient ingredient ingredient                                                                           [1-1/2, cups, Rice, Vermicelli, Noodles, Thin, 1, Onion, sliced, 1/2, cup, Carrots, Gajjar, chopped, 1/3, Green, peas, Matar, 2, Chillies, 1/4, teaspoon, Asafoetida, hing, Mustard, seeds, White, Urad, Dal, Split, Ghee, sprig, Curry, leaves, Salt, Lemon, juice]                                                                                                [quantity, unit, ingredient, ingredient, ingredient, ingredient, quantity, ingredient, ingredient, quantity, unit, ingredient, ingredient, ingredient, quantity, ingredient, ingredient, ingredient, quantity, ingredient, quantity, unit, ingredient, ingredient, ingredient, ingredient, ingredient, ingredient, ingredient, ingredient, ingredient, unit, ingredient, ingredient, ingredient, ingredient, ingredient]\n",
       "3  500 grams Chicken 2 Onion chopped 1 Tomato 4 Green Chillies slit inch Ginger finely 6 cloves Garlic 1/2 teaspoon Turmeric powder Haldi Garam masala tablespoon Sesame Gingelly Oil 1/4 Methi Seeds Fenugreek Coriander Dhania Dry Red Fennel seeds Saunf cups Sorrel Leaves Gongura picked and  quantity unit ingredient quantity ingredient ingredient quantity ingredient quantity ingredient ingredient ingredient unit ingredient ingredient quantity unit ingredient quantity unit ingredient ingredient ingredient ingredient ingredient unit ingredient ingredient ingredient quantity ingredient ingredient ingredient ingredient ingredient ingredient ingredient ingredient ingredient ingredient unit ingredient ingredient ingredient ingredient ingredient  [500, grams, Chicken, 2, Onion, chopped, 1, Tomato, 4, Green, Chillies, slit, inch, Ginger, finely, 6, cloves, Garlic, 1/2, teaspoon, Turmeric, powder, Haldi, Garam, masala, tablespoon, Sesame, Gingelly, Oil, 1/4, Methi, Seeds, Fenugreek, Coriander, Dhania, Dry, Red, Fennel, seeds, Saunf, cups, Sorrel, Leaves, Gongura, picked, and]  [quantity, unit, ingredient, quantity, ingredient, ingredient, quantity, ingredient, quantity, ingredient, ingredient, ingredient, unit, ingredient, ingredient, quantity, unit, ingredient, quantity, unit, ingredient, ingredient, ingredient, ingredient, ingredient, unit, ingredient, ingredient, ingredient, quantity, ingredient, ingredient, ingredient, ingredient, ingredient, ingredient, ingredient, ingredient, ingredient, ingredient, unit, ingredient, ingredient, ingredient, ingredient, ingredient]\n",
       "4                                                                                                                                                           1 tablespoon chana dal white urad 2 red chillies coriander seeds 3 inches ginger onion tomato Teaspoon mustard asafoetida sprig curry                                                                                                                                                                                                                                                                 quantity unit ingredient ingredient ingredient ingredient quantity ingredient ingredient ingredient ingredient quantity unit ingredient ingredient ingredient unit ingredient ingredient unit ingredient                                                                                                                                                                                    [1, tablespoon, chana, dal, white, urad, 2, red, chillies, coriander, seeds, 3, inches, ginger, onion, tomato, Teaspoon, mustard, asafoetida, sprig, curry]                                                                                                                                                                                                                                                                                          [quantity, unit, ingredient, ingredient, ingredient, ingredient, quantity, ingredient, ingredient, ingredient, ingredient, quantity, unit, ingredient, ingredient, ingredient, unit, ingredient, ingredient, unit, ingredient]"
      ]
     },
     "execution_count": 32,
     "metadata": {},
     "output_type": "execute_result"
    }
   ],
   "source": [
    "# display first five rows of the dataframe - df\n",
    "ingredient_data_df.head()\n"
   ]
  },
  {
   "cell_type": "markdown",
   "metadata": {
    "id": "-JtvsBYur-oV"
   },
   "source": [
    "##### **2.2.2** **Provide the length for input_tokens and pos_tokens and validate their length** <font color = red>[2 marks]</font> <br>\n",
    "\n",
    "Create input_length and pos_length columns in the dataframe and validate both the lengths. Check for the rows that are unequal in input and pos length\n"
   ]
  },
  {
   "cell_type": "code",
   "execution_count": 33,
   "metadata": {
    "id": "GeVRD2IK1Jrg"
   },
   "outputs": [],
   "source": [
    "# create input_length and pos_length columns for the input_tokens and pos-tokens\n",
    "ingredient_data_df['input_length'] = ingredient_data_df['input_tokens'].apply(len)\n",
    "ingredient_data_df['pos_length'] = ingredient_data_df['pos_tokens'].apply(len)\n"
   ]
  },
  {
   "cell_type": "code",
   "execution_count": 34,
   "metadata": {
    "id": "BPMOlLnz1P1H"
   },
   "outputs": [],
   "source": [
    "# check for the equality of input_length and pos_length in the dataframe\n",
    "mismatched_df = ingredient_data_df[ingredient_data_df['input_length'] != ingredient_data_df['pos_length']]\n"
   ]
  },
  {
   "cell_type": "code",
   "execution_count": 35,
   "metadata": {},
   "outputs": [
    {
     "name": "stdout",
     "output_type": "stream",
     "text": [
      "Total rows: 285\n",
      "Rows with mismatched token lengths: 5\n"
     ]
    }
   ],
   "source": [
    "print(\"Total rows:\", len(ingredient_data_df))\n",
    "print(\"Rows with mismatched token lengths:\", len(mismatched_df))"
   ]
  },
  {
   "cell_type": "code",
   "execution_count": 36,
   "metadata": {},
   "outputs": [
    {
     "data": {
      "text/html": [
       "<div>\n",
       "<style scoped>\n",
       "    .dataframe tbody tr th:only-of-type {\n",
       "        vertical-align: middle;\n",
       "    }\n",
       "\n",
       "    .dataframe tbody tr th {\n",
       "        vertical-align: top;\n",
       "    }\n",
       "\n",
       "    .dataframe thead th {\n",
       "        text-align: right;\n",
       "    }\n",
       "</style>\n",
       "<table border=\"1\" class=\"dataframe\">\n",
       "  <thead>\n",
       "    <tr style=\"text-align: right;\">\n",
       "      <th></th>\n",
       "      <th>input</th>\n",
       "      <th>pos</th>\n",
       "      <th>input_length</th>\n",
       "      <th>pos_length</th>\n",
       "    </tr>\n",
       "  </thead>\n",
       "  <tbody>\n",
       "    <tr>\n",
       "      <th>17</th>\n",
       "      <td>2 cups curd 1 cup gourd cucumber green cor coriander 1/2 teaspoon cumin powder salt</td>\n",
       "      <td>quantity unit ingredient quantity unit ingredient ingredient ingredient ingredient quantity unit ingredient ingredient ingredient</td>\n",
       "      <td>15</td>\n",
       "      <td>14</td>\n",
       "    </tr>\n",
       "    <tr>\n",
       "      <th>27</th>\n",
       "      <td>1 Baguette sliced 1 1/2 tablespoon Butter 1/2 Garlic minced cup Spinach Leaves Palak Red Bell pepper Capsicum Tomato finely chopped Onion Black powder Italian seasoning teaspoon Fresh cream Cheddar cheese grated Salt Roasted tomato pasta sauce</td>\n",
       "      <td>quantity ingredient ingredient quantity unit ingredient quantity ingredient ingredient unit ingredient ingredient ingredient ingredient ingredient ingredient ingredient ingredient ingredient ingredient ingredient ingredient ingredient ingredient ingredient unit ingredient ingredient ingredient ingredient ingredient ingredient ingredient ingredient ingredient ingredient</td>\n",
       "      <td>37</td>\n",
       "      <td>36</td>\n",
       "    </tr>\n",
       "    <tr>\n",
       "      <th>79</th>\n",
       "      <td>1/2 cup Poha Flattened rice 2 tablespoons Rice flour 2 1/2 liter Milk 1 Nolen Gur or brown sugar Cardamom Elaichi Pods/Seeds 8-10 Mixed nuts almonds/cashews tablespoon Raisins pinch Saffron strands and a little more for garnish Salt</td>\n",
       "      <td>quantity unit ingredient ingredient ingredient quantity unit ingredient ingredient quantity unit ingredient quantity ingredient ingredient ingredient ingredient ingredient ingredient ingredient ingredient quantity ingredient ingredient ingredient unit ingredient unit ingredient ingredient ingredient ingredient ingredient ingredient ingredient ingredient ingredient</td>\n",
       "      <td>38</td>\n",
       "      <td>37</td>\n",
       "    </tr>\n",
       "    <tr>\n",
       "      <th>164</th>\n",
       "      <td>1/2 cup All Purpose Flour Maida Whole Wheat 1/4 Hung Curd Greek Yogurt 250 grams Chicken minced 1 Spinach Leaves Palak finely chopped Onion 4 cloves Garlic Tomatoes tablespoon Cumin powder Jeera Coriander Powder Dhania 1 1/2 teaspoon Paprika Black pepper 3 sprig Mint Pudina 10 Spring Bulb &amp; Greens 100 Feta Cheese crumbled</td>\n",
       "      <td>quantity unit ingredient ingredient ingredient ingredient ingredient ingredient quantity ingredient ingredient ingredient ingredient quantity unit ingredient ingredient quantity ingredient ingredient ingredient ingredient ingredient ingredient quantity unit ingredient ingredient unit ingredient ingredient ingredient ingredient ingredient ingredient quantity unit ingredient ingredient ingredient quantity unit ingredient ingredient quantity ingredient ingredient ingredient ingredient quantity ingredient ingredient ingredient</td>\n",
       "      <td>54</td>\n",
       "      <td>53</td>\n",
       "    </tr>\n",
       "    <tr>\n",
       "      <th>207</th>\n",
       "      <td>1 cup Cashew nuts Badam Almond 1 1/4 cups Sugar 1/2 Water teaspoon Cardamom Powder Ghee for greasing</td>\n",
       "      <td>quantity unit ingredient ingredient ingredient ingredient quantity unit ingredient quantity ingredient unit ingredient ingredient ingredient unit ingredient</td>\n",
       "      <td>18</td>\n",
       "      <td>17</td>\n",
       "    </tr>\n",
       "  </tbody>\n",
       "</table>\n",
       "</div>"
      ],
      "text/plain": [
       "                                                                                                                                                                                                                                                                                                                                   input                                                                                                                                                                                                                                                                                                                                                                                                                                                                                                                                               pos  input_length  pos_length\n",
       "17                                                                                                                                                                                                                                                   2 cups curd 1 cup gourd cucumber green cor coriander 1/2 teaspoon cumin powder salt                                                                                                                                                                                                                                                                                                                                                                                                                 quantity unit ingredient quantity unit ingredient ingredient ingredient ingredient quantity unit ingredient ingredient ingredient            15          14\n",
       "27                                                                                   1 Baguette sliced 1 1/2 tablespoon Butter 1/2 Garlic minced cup Spinach Leaves Palak Red Bell pepper Capsicum Tomato finely chopped Onion Black powder Italian seasoning teaspoon Fresh cream Cheddar cheese grated Salt Roasted tomato pasta sauce                                                                                                                                                               quantity ingredient ingredient quantity unit ingredient quantity ingredient ingredient unit ingredient ingredient ingredient ingredient ingredient ingredient ingredient ingredient ingredient ingredient ingredient ingredient ingredient ingredient ingredient unit ingredient ingredient ingredient ingredient ingredient ingredient ingredient ingredient ingredient ingredient            37          36\n",
       "79                                                                                              1/2 cup Poha Flattened rice 2 tablespoons Rice flour 2 1/2 liter Milk 1 Nolen Gur or brown sugar Cardamom Elaichi Pods/Seeds 8-10 Mixed nuts almonds/cashews tablespoon Raisins pinch Saffron strands and a little more for garnish Salt                                                                                                                                                                    quantity unit ingredient ingredient ingredient quantity unit ingredient ingredient quantity unit ingredient quantity ingredient ingredient ingredient ingredient ingredient ingredient ingredient ingredient quantity ingredient ingredient ingredient unit ingredient unit ingredient ingredient ingredient ingredient ingredient ingredient ingredient ingredient ingredient            38          37\n",
       "164  1/2 cup All Purpose Flour Maida Whole Wheat 1/4 Hung Curd Greek Yogurt 250 grams Chicken minced 1 Spinach Leaves Palak finely chopped Onion 4 cloves Garlic Tomatoes tablespoon Cumin powder Jeera Coriander Powder Dhania 1 1/2 teaspoon Paprika Black pepper 3 sprig Mint Pudina 10 Spring Bulb & Greens 100 Feta Cheese crumbled  quantity unit ingredient ingredient ingredient ingredient ingredient ingredient quantity ingredient ingredient ingredient ingredient quantity unit ingredient ingredient quantity ingredient ingredient ingredient ingredient ingredient ingredient quantity unit ingredient ingredient unit ingredient ingredient ingredient ingredient ingredient ingredient quantity unit ingredient ingredient ingredient quantity unit ingredient ingredient quantity ingredient ingredient ingredient ingredient quantity ingredient ingredient ingredient            54          53\n",
       "207                                                                                                                                                                                                                                 1 cup Cashew nuts Badam Almond 1 1/4 cups Sugar 1/2 Water teaspoon Cardamom Powder Ghee for greasing                                                                                                                                                                                                                                                                                                                                                                                      quantity unit ingredient ingredient ingredient ingredient quantity unit ingredient quantity ingredient unit ingredient ingredient ingredient unit ingredient            18          17"
      ]
     },
     "execution_count": 36,
     "metadata": {},
     "output_type": "execute_result"
    }
   ],
   "source": [
    "mismatched_df[['input', 'pos', 'input_length', 'pos_length']].head()"
   ]
  },
  {
   "cell_type": "markdown",
   "metadata": {
    "id": "dpJQu3JE_P7Z"
   },
   "source": [
    "##### **2.2.3** **Define a unique_labels function and validate the labels in pos_tokens** <font color = red>[2 marks]</font> <br>\n",
    "\n",
    "Define a unique_labels function which checks for all the unique pos labels in the recipe & execute it.\n"
   ]
  },
  {
   "cell_type": "code",
   "execution_count": 37,
   "metadata": {
    "id": "-4aMFCxXO_GJ"
   },
   "outputs": [],
   "source": [
    "# Define a unique_labels function to checks for all the unique pos labels in the recipe & print it\n",
    "def unique_labels(recipe_df, pos_coloumn_name):\n",
    "    # Explode to get one label per row\n",
    "    exploded_labels = recipe_df.explode(pos_coloumn_name)\n",
    "\n",
    "    # Get unique labels\n",
    "    unique_pos_labels = exploded_labels[pos_coloumn_name].unique()\n",
    "    return unique_pos_labels\n"
   ]
  },
  {
   "cell_type": "code",
   "execution_count": 38,
   "metadata": {
    "scrolled": true
   },
   "outputs": [
    {
     "name": "stdout",
     "output_type": "stream",
     "text": [
      "Unique POS labels in the dataset:\n",
      "['quantity' 'ingredient' 'unit']\n"
     ]
    }
   ],
   "source": [
    "print(\"Unique POS labels in the dataset:\")\n",
    "print(unique_labels(ingredient_data_df, 'pos_tokens'))"
   ]
  },
  {
   "cell_type": "code",
   "execution_count": null,
   "metadata": {},
   "outputs": [],
   "source": []
  },
  {
   "cell_type": "markdown",
   "metadata": {
    "id": "JbriClEV9CW5"
   },
   "source": [
    "##### **2.2.3** **Provide the insights seen in the recipe data after validation** <font color = red>[1 marks]</font> <br>\n",
    "\n",
    "Provide the indexes that requires cleaning and formatting in the dataframe"
   ]
  },
  {
   "cell_type": "markdown",
   "metadata": {
    "id": "rrNQ4AtD9RPk"
   },
   "source": [
    "<font color = red>[write your answer]</font> <br>\n"
   ]
  },
  {
   "cell_type": "code",
   "execution_count": 39,
   "metadata": {},
   "outputs": [],
   "source": [
    "mismatched_indexes = mismatched_df.index.tolist()"
   ]
  },
  {
   "cell_type": "code",
   "execution_count": 40,
   "metadata": {},
   "outputs": [
    {
     "data": {
      "text/plain": [
       "[17, 27, 79, 164, 207]"
      ]
     },
     "execution_count": 40,
     "metadata": {},
     "output_type": "execute_result"
    }
   ],
   "source": [
    "mismatched_indexes"
   ]
  },
  {
   "cell_type": "markdown",
   "metadata": {
    "id": "Qtqtij2-CD2m"
   },
   "source": [
    "##### **2.2.4** **Drop the rows that have invalid data provided in previous cell** <font color = red> [2 marks]</font> <br>"
   ]
  },
  {
   "cell_type": "code",
   "execution_count": 41,
   "metadata": {
    "id": "jaiy1pYWCFPA"
   },
   "outputs": [],
   "source": [
    "# drop the irrelevant recipe data\n",
    "df_cleaned = ingredient_data_df.drop(index=mismatched_indexes).reset_index(drop=True)\n"
   ]
  },
  {
   "cell_type": "markdown",
   "metadata": {
    "id": "_RJEStPSC9PB"
   },
   "source": [
    "##### **2.2.5** **Update the input_length & pos_length in dataframe**<font color = red> [2 marks]</font> <br>"
   ]
  },
  {
   "cell_type": "code",
   "execution_count": 42,
   "metadata": {
    "id": "XjJd7gPI5_ca"
   },
   "outputs": [],
   "source": [
    "# update the input and pos length in input_length and pos_length\n",
    "df_cleaned['input_length'] = df_cleaned['input_tokens'].apply(len)\n",
    "df_cleaned['pos_length'] = df_cleaned['pos_tokens'].apply(len)"
   ]
  },
  {
   "cell_type": "markdown",
   "metadata": {
    "id": "qJdYJ2TEDBzd"
   },
   "source": [
    "##### **2.2.6** **Validate the input_length and pos_length by checking unequal rows** <font color = red> [1 marks]</font> <br>"
   ]
  },
  {
   "cell_type": "code",
   "execution_count": 43,
   "metadata": {
    "id": "fdSsdOPM8aXo"
   },
   "outputs": [],
   "source": [
    "# validate the input length and pos length as input_length and pos_length\n",
    "\n",
    "mismatched_cleaned_df = df_cleaned[df_cleaned['input_length'] != df_cleaned['pos_length']]\n",
    "\n"
   ]
  },
  {
   "cell_type": "code",
   "execution_count": 44,
   "metadata": {},
   "outputs": [
    {
     "name": "stdout",
     "output_type": "stream",
     "text": [
      "Total rows: 280\n",
      "Rows with mismatched token lengths: 0\n"
     ]
    }
   ],
   "source": [
    "print(\"Total rows:\", len(df_cleaned))\n",
    "print(\"Rows with mismatched token lengths:\", len(mismatched_cleaned_df))"
   ]
  },
  {
   "cell_type": "code",
   "execution_count": null,
   "metadata": {},
   "outputs": [],
   "source": []
  },
  {
   "cell_type": "markdown",
   "metadata": {
    "id": "TwKLW4em-qMu"
   },
   "source": [
    "## **3** Train Validation Split (70 train - 30 val) <font color = red>[6 marks]</font> <br>"
   ]
  },
  {
   "cell_type": "markdown",
   "metadata": {
    "id": "z_pJDTVO-71z"
   },
   "source": [
    "#### **3.1** *Perform train and validation split ratio* <font color = red>[6 marks]</font> <br>\n",
    "Split the dataset with the help of input_tokens and pos_tokens and make a ratio of 70:30 split for training and validation datasets."
   ]
  },
  {
   "cell_type": "markdown",
   "metadata": {
    "id": "l-64gdDiIy9u"
   },
   "source": [
    "###### **3.1.1** **Split the dataset into train_df and val_df into 70:30 ratio** <font color = red> [1 marks]</font> <br>"
   ]
  },
  {
   "cell_type": "code",
   "execution_count": 45,
   "metadata": {
    "id": "W20A_-9E_WOv"
   },
   "outputs": [],
   "source": [
    "# split the dataset into training and validation sets\n",
    "train_df, val_df = train_test_split(df_cleaned[['input_tokens', 'pos_tokens']],test_size=0.3,random_state=42)\n"
   ]
  },
  {
   "cell_type": "markdown",
   "metadata": {
    "id": "PUA05_77JRAv"
   },
   "source": [
    "###### **3.1.2** **Print the first five rows of train_df and val_df** <font color = red> [1 marks]</font> <br>"
   ]
  },
  {
   "cell_type": "code",
   "execution_count": 46,
   "metadata": {
    "id": "pgMZfsbV_XhK",
    "scrolled": true
   },
   "outputs": [
    {
     "data": {
      "text/html": [
       "<div>\n",
       "<style scoped>\n",
       "    .dataframe tbody tr th:only-of-type {\n",
       "        vertical-align: middle;\n",
       "    }\n",
       "\n",
       "    .dataframe tbody tr th {\n",
       "        vertical-align: top;\n",
       "    }\n",
       "\n",
       "    .dataframe thead th {\n",
       "        text-align: right;\n",
       "    }\n",
       "</style>\n",
       "<table border=\"1\" class=\"dataframe\">\n",
       "  <thead>\n",
       "    <tr style=\"text-align: right;\">\n",
       "      <th></th>\n",
       "      <th>input_tokens</th>\n",
       "      <th>pos_tokens</th>\n",
       "    </tr>\n",
       "  </thead>\n",
       "  <tbody>\n",
       "    <tr>\n",
       "      <th>175</th>\n",
       "      <td>[250, grams, Okra, Oil, 1, Onion, finely, chopped, Tomato, Grated, teaspoon, Ginger, 2, Garlic, Finely, 1/2, Cumin, seeds, 1/4, Teaspoon, asafoetida, cup, cottage, cheese, pinched, coriander, powder, mango, red, chilli, turmeric]</td>\n",
       "      <td>[quantity, unit, ingredient, ingredient, quantity, ingredient, ingredient, ingredient, ingredient, ingredient, unit, ingredient, quantity, ingredient, ingredient, quantity, ingredient, ingredient, quantity, unit, ingredient, unit, ingredient, ingredient, ingredient, ingredient, ingredient, ingredient, ingredient, ingredient, ingredient]</td>\n",
       "    </tr>\n",
       "    <tr>\n",
       "      <th>55</th>\n",
       "      <td>[200, grams, Paneer, Homemade, Cottage, Cheese, 2, Potato, Aloo, Bay, leaf, tej, patta, Dry, Red, Chilli, 1, tablespoon, Panch, Phoran, Masala, roasted, and, powdered, Tomato, big, sized, teaspoon, Turmeric, powder, Haldi, Cumin, seeds, Jeera, Ginger, grated, Salt, 1/2, Sugar, Sunflower, Oil]</td>\n",
       "      <td>[quantity, unit, ingredient, ingredient, ingredient, ingredient, quantity, ingredient, ingredient, ingredient, ingredient, ingredient, ingredient, ingredient, ingredient, ingredient, quantity, unit, ingredient, ingredient, ingredient, ingredient, ingredient, ingredient, ingredient, ingredient, ingredient, unit, ingredient, ingredient, ingredient, ingredient, ingredient, ingredient, ingredient, ingredient, ingredient, quantity, ingredient, ingredient, ingredient]</td>\n",
       "    </tr>\n",
       "    <tr>\n",
       "      <th>109</th>\n",
       "      <td>[500, grams, Cabbage, Patta, Gobi, Muttaikose, 1, teaspoon, Mustard, seeds, 1-1/2, White, Urad, Dal, Split, sprig, Curry, leaves, Green, Chilli, 1/4, cup, Fresh, coconut, Salt]</td>\n",
       "      <td>[quantity, unit, ingredient, ingredient, ingredient, ingredient, quantity, unit, ingredient, ingredient, quantity, ingredient, ingredient, ingredient, ingredient, unit, ingredient, ingredient, ingredient, ingredient, quantity, unit, ingredient, ingredient, ingredient]</td>\n",
       "    </tr>\n",
       "    <tr>\n",
       "      <th>213</th>\n",
       "      <td>[500, grams, Fresh, Figs, 1/4, cup, Lemon, juice, 1, teaspoon, zest, 2, Red, Chilli, flakes, 1/2, Honey, Brown, Sugar, (Demerara, Sugar)]</td>\n",
       "      <td>[quantity, unit, ingredient, ingredient, quantity, unit, ingredient, ingredient, quantity, unit, ingredient, quantity, ingredient, ingredient, ingredient, quantity, ingredient, ingredient, ingredient, ingredient, ingredient]</td>\n",
       "    </tr>\n",
       "    <tr>\n",
       "      <th>38</th>\n",
       "      <td>[2, cups, Water, 1, teaspoon, Tea, leaves, 1/4, Milk, 10, Saffron, strands]</td>\n",
       "      <td>[quantity, unit, ingredient, quantity, unit, ingredient, ingredient, quantity, ingredient, quantity, ingredient, ingredient]</td>\n",
       "    </tr>\n",
       "  </tbody>\n",
       "</table>\n",
       "</div>"
      ],
      "text/plain": [
       "                                                                                                                                                                                                                                                                                              input_tokens                                                                                                                                                                                                                                                                                                                                                                                                                                                                          pos_tokens\n",
       "175                                                                  [250, grams, Okra, Oil, 1, Onion, finely, chopped, Tomato, Grated, teaspoon, Ginger, 2, Garlic, Finely, 1/2, Cumin, seeds, 1/4, Teaspoon, asafoetida, cup, cottage, cheese, pinched, coriander, powder, mango, red, chilli, turmeric]                                                                                                                                  [quantity, unit, ingredient, ingredient, quantity, ingredient, ingredient, ingredient, ingredient, ingredient, unit, ingredient, quantity, ingredient, ingredient, quantity, ingredient, ingredient, quantity, unit, ingredient, unit, ingredient, ingredient, ingredient, ingredient, ingredient, ingredient, ingredient, ingredient, ingredient]\n",
       "55   [200, grams, Paneer, Homemade, Cottage, Cheese, 2, Potato, Aloo, Bay, leaf, tej, patta, Dry, Red, Chilli, 1, tablespoon, Panch, Phoran, Masala, roasted, and, powdered, Tomato, big, sized, teaspoon, Turmeric, powder, Haldi, Cumin, seeds, Jeera, Ginger, grated, Salt, 1/2, Sugar, Sunflower, Oil]  [quantity, unit, ingredient, ingredient, ingredient, ingredient, quantity, ingredient, ingredient, ingredient, ingredient, ingredient, ingredient, ingredient, ingredient, ingredient, quantity, unit, ingredient, ingredient, ingredient, ingredient, ingredient, ingredient, ingredient, ingredient, ingredient, unit, ingredient, ingredient, ingredient, ingredient, ingredient, ingredient, ingredient, ingredient, ingredient, quantity, ingredient, ingredient, ingredient]\n",
       "109                                                                                                                       [500, grams, Cabbage, Patta, Gobi, Muttaikose, 1, teaspoon, Mustard, seeds, 1-1/2, White, Urad, Dal, Split, sprig, Curry, leaves, Green, Chilli, 1/4, cup, Fresh, coconut, Salt]                                                                                                                                                                                                        [quantity, unit, ingredient, ingredient, ingredient, ingredient, quantity, unit, ingredient, ingredient, quantity, ingredient, ingredient, ingredient, ingredient, unit, ingredient, ingredient, ingredient, ingredient, quantity, unit, ingredient, ingredient, ingredient]\n",
       "213                                                                                                                                                              [500, grams, Fresh, Figs, 1/4, cup, Lemon, juice, 1, teaspoon, zest, 2, Red, Chilli, flakes, 1/2, Honey, Brown, Sugar, (Demerara, Sugar)]                                                                                                                                                                                                                                                    [quantity, unit, ingredient, ingredient, quantity, unit, ingredient, ingredient, quantity, unit, ingredient, quantity, ingredient, ingredient, ingredient, quantity, ingredient, ingredient, ingredient, ingredient, ingredient]\n",
       "38                                                                                                                                                                                                                             [2, cups, Water, 1, teaspoon, Tea, leaves, 1/4, Milk, 10, Saffron, strands]                                                                                                                                                                                                                                                                                                                                                        [quantity, unit, ingredient, quantity, unit, ingredient, ingredient, quantity, ingredient, quantity, ingredient, ingredient]"
      ]
     },
     "execution_count": 46,
     "metadata": {},
     "output_type": "execute_result"
    }
   ],
   "source": [
    "# print the first five rows of train_df\n",
    "train_df.head()"
   ]
  },
  {
   "cell_type": "code",
   "execution_count": 47,
   "metadata": {
    "id": "Kgtg5WE4_d7h"
   },
   "outputs": [
    {
     "data": {
      "text/html": [
       "<div>\n",
       "<style scoped>\n",
       "    .dataframe tbody tr th:only-of-type {\n",
       "        vertical-align: middle;\n",
       "    }\n",
       "\n",
       "    .dataframe tbody tr th {\n",
       "        vertical-align: top;\n",
       "    }\n",
       "\n",
       "    .dataframe thead th {\n",
       "        text-align: right;\n",
       "    }\n",
       "</style>\n",
       "<table border=\"1\" class=\"dataframe\">\n",
       "  <thead>\n",
       "    <tr style=\"text-align: right;\">\n",
       "      <th></th>\n",
       "      <th>input_tokens</th>\n",
       "      <th>pos_tokens</th>\n",
       "    </tr>\n",
       "  </thead>\n",
       "  <tbody>\n",
       "    <tr>\n",
       "      <th>33</th>\n",
       "      <td>[1, cup, Ada, 2, liter, Milk, 3/4, Sugar, tablespoon, Ghee, 1/2, teaspoon, Cardamom, Powder, Elaichi]</td>\n",
       "      <td>[quantity, unit, ingredient, quantity, unit, ingredient, quantity, ingredient, unit, ingredient, quantity, unit, ingredient, ingredient, ingredient]</td>\n",
       "    </tr>\n",
       "    <tr>\n",
       "      <th>108</th>\n",
       "      <td>[1, Carrot, Gajjar, chopped, 7, Potatoes, Aloo, 2, cups, Cauliflower, gobi, cut, to, small, florets, Onion, tablespoon, Ginger, Garlic, Paste, Salt, teaspoons, Sunflower, Oil, 1/2, cup, Fresh, coconut, grated, teaspoon, Whole, Black, Peppercorns, Green, Chillies, Fennel, seeds, Saunf, Poppy, 6, Cashew, nuts, inch, Cinnamon, Stick, Dalchini, Star, anise, 3, Cloves, Laung, Cardamom, Elaichi, Pods/Seeds, Cumin, Jeera]</td>\n",
       "      <td>[quantity, ingredient, ingredient, ingredient, quantity, ingredient, ingredient, quantity, unit, ingredient, ingredient, ingredient, ingredient, ingredient, ingredient, ingredient, unit, ingredient, ingredient, ingredient, ingredient, unit, ingredient, ingredient, quantity, unit, ingredient, ingredient, ingredient, unit, ingredient, ingredient, ingredient, ingredient, ingredient, ingredient, ingredient, ingredient, ingredient, quantity, ingredient, ingredient, unit, ingredient, ingredient, ingredient, ingredient, ingredient, quantity, ingredient, ingredient, ingredient, ingredient, ingredient, ingredient, ingredient]</td>\n",
       "    </tr>\n",
       "    <tr>\n",
       "      <th>240</th>\n",
       "      <td>[1, tablespoon, Sunflower, Oil, 3, Potato, Aloo, Ginger, paste, Green, Chilli, chopped, 1-1/12, tablespoons, Sesame, seeds, Til, teaspoon, Red, powder, Cumin, Jeera, Coriander, Powder, Dhania, 1/2, Garam, masala, 2, Sweet, Chutney, Date, Tamarind, Leaves, few]</td>\n",
       "      <td>[quantity, unit, ingredient, ingredient, quantity, ingredient, ingredient, ingredient, ingredient, ingredient, ingredient, ingredient, quantity, unit, ingredient, ingredient, ingredient, unit, ingredient, ingredient, ingredient, ingredient, ingredient, ingredient, ingredient, quantity, ingredient, ingredient, quantity, ingredient, ingredient, ingredient, ingredient, ingredient, ingredient]</td>\n",
       "    </tr>\n",
       "    <tr>\n",
       "      <th>259</th>\n",
       "      <td>[1, cup, green, peas, gram, flour, 1/2, cheese, tsp, ginger, 2, chillies, turmeric, powder, cumin, teaspoon, salt, oil]</td>\n",
       "      <td>[quantity, unit, ingredient, ingredient, ingredient, ingredient, quantity, ingredient, unit, ingredient, quantity, ingredient, ingredient, ingredient, ingredient, unit, ingredient, ingredient]</td>\n",
       "    </tr>\n",
       "    <tr>\n",
       "      <th>154</th>\n",
       "      <td>[2, cups, Brown, Rice, cooked, tablespoons, Garlic, chopped, 1, Green, Chilli, 1/2, cup, Carrots, (Gajjar), beans, (French, Beans), Bell, Pepper, (Capsicum), Onion, Cabbage, (Patta, Gobi/, Muttaikose), tablespoon, Roasted, tomato, pasta, sauce, -, or, store, bought, Red, teaspoon, Soy, Ginger, freshly, grated, Spring, Greens, Salt, Vinegar, Extra, Virgin, Olive, Oil, as, required]</td>\n",
       "      <td>[quantity, unit, ingredient, ingredient, ingredient, unit, ingredient, ingredient, quantity, ingredient, ingredient, quantity, unit, ingredient, ingredient, ingredient, ingredient, ingredient, ingredient, ingredient, ingredient, ingredient, ingredient, ingredient, ingredient, ingredient, unit, ingredient, ingredient, ingredient, ingredient, ingredient, ingredient, ingredient, ingredient, ingredient, unit, ingredient, ingredient, ingredient, ingredient, ingredient, ingredient, ingredient, ingredient, ingredient, ingredient, ingredient, ingredient, ingredient, ingredient]</td>\n",
       "    </tr>\n",
       "  </tbody>\n",
       "</table>\n",
       "</div>"
      ],
      "text/plain": [
       "                                                                                                                                                                                                                                                                                                                                                                                                                           input_tokens                                                                                                                                                                                                                                                                                                                                                                                                                                                                                                                                                                                                                                        pos_tokens\n",
       "33                                                                                                                                                                                                                                                                                                                                [1, cup, Ada, 2, liter, Milk, 3/4, Sugar, tablespoon, Ghee, 1/2, teaspoon, Cardamom, Powder, Elaichi]                                                                                                                                                                                                                                                                                                                                                                                                                                                                                              [quantity, unit, ingredient, quantity, unit, ingredient, quantity, ingredient, unit, ingredient, quantity, unit, ingredient, ingredient, ingredient]\n",
       "108  [1, Carrot, Gajjar, chopped, 7, Potatoes, Aloo, 2, cups, Cauliflower, gobi, cut, to, small, florets, Onion, tablespoon, Ginger, Garlic, Paste, Salt, teaspoons, Sunflower, Oil, 1/2, cup, Fresh, coconut, grated, teaspoon, Whole, Black, Peppercorns, Green, Chillies, Fennel, seeds, Saunf, Poppy, 6, Cashew, nuts, inch, Cinnamon, Stick, Dalchini, Star, anise, 3, Cloves, Laung, Cardamom, Elaichi, Pods/Seeds, Cumin, Jeera]  [quantity, ingredient, ingredient, ingredient, quantity, ingredient, ingredient, quantity, unit, ingredient, ingredient, ingredient, ingredient, ingredient, ingredient, ingredient, unit, ingredient, ingredient, ingredient, ingredient, unit, ingredient, ingredient, quantity, unit, ingredient, ingredient, ingredient, unit, ingredient, ingredient, ingredient, ingredient, ingredient, ingredient, ingredient, ingredient, ingredient, quantity, ingredient, ingredient, unit, ingredient, ingredient, ingredient, ingredient, ingredient, quantity, ingredient, ingredient, ingredient, ingredient, ingredient, ingredient, ingredient]\n",
       "240                                                                                                                                                                [1, tablespoon, Sunflower, Oil, 3, Potato, Aloo, Ginger, paste, Green, Chilli, chopped, 1-1/12, tablespoons, Sesame, seeds, Til, teaspoon, Red, powder, Cumin, Jeera, Coriander, Powder, Dhania, 1/2, Garam, masala, 2, Sweet, Chutney, Date, Tamarind, Leaves, few]                                                                                                                                                                                                                                          [quantity, unit, ingredient, ingredient, quantity, ingredient, ingredient, ingredient, ingredient, ingredient, ingredient, ingredient, quantity, unit, ingredient, ingredient, ingredient, unit, ingredient, ingredient, ingredient, ingredient, ingredient, ingredient, ingredient, quantity, ingredient, ingredient, quantity, ingredient, ingredient, ingredient, ingredient, ingredient, ingredient]\n",
       "259                                                                                                                                                                                                                                                                                                             [1, cup, green, peas, gram, flour, 1/2, cheese, tsp, ginger, 2, chillies, turmeric, powder, cumin, teaspoon, salt, oil]                                                                                                                                                                                                                                                                                                                                                                                                                                                  [quantity, unit, ingredient, ingredient, ingredient, ingredient, quantity, ingredient, unit, ingredient, quantity, ingredient, ingredient, ingredient, ingredient, unit, ingredient, ingredient]\n",
       "154                                     [2, cups, Brown, Rice, cooked, tablespoons, Garlic, chopped, 1, Green, Chilli, 1/2, cup, Carrots, (Gajjar), beans, (French, Beans), Bell, Pepper, (Capsicum), Onion, Cabbage, (Patta, Gobi/, Muttaikose), tablespoon, Roasted, tomato, pasta, sauce, -, or, store, bought, Red, teaspoon, Soy, Ginger, freshly, grated, Spring, Greens, Salt, Vinegar, Extra, Virgin, Olive, Oil, as, required]                                                  [quantity, unit, ingredient, ingredient, ingredient, unit, ingredient, ingredient, quantity, ingredient, ingredient, quantity, unit, ingredient, ingredient, ingredient, ingredient, ingredient, ingredient, ingredient, ingredient, ingredient, ingredient, ingredient, ingredient, ingredient, unit, ingredient, ingredient, ingredient, ingredient, ingredient, ingredient, ingredient, ingredient, ingredient, unit, ingredient, ingredient, ingredient, ingredient, ingredient, ingredient, ingredient, ingredient, ingredient, ingredient, ingredient, ingredient, ingredient, ingredient]"
      ]
     },
     "execution_count": 47,
     "metadata": {},
     "output_type": "execute_result"
    }
   ],
   "source": [
    "# print the first five rows of the val_df\n",
    "val_df.head()\n"
   ]
  },
  {
   "cell_type": "markdown",
   "metadata": {
    "id": "7prEiaiqI_VZ"
   },
   "source": [
    "###### **3.1.3** **Extract the dataset into train_df and val_df into X_train, X_val, y_train and y_val and display their length** <font color = red> [2 marks]</font> <br>\n",
    "\n",
    "Extract X_train, X_val, y_train and y_val by extracting the list of input_tokens and pos_tokens from train_df and val_df and also display their length"
   ]
  },
  {
   "cell_type": "code",
   "execution_count": 48,
   "metadata": {
    "id": "BFVnCD71IHXF"
   },
   "outputs": [],
   "source": [
    "# extract the training and validation sets by taking input_tokens and pos_tokens\n",
    "# Extract input_tokens and pos_tokens\n",
    "X_train = train_df['input_tokens'].tolist()\n",
    "y_train = train_df['pos_tokens'].tolist()\n",
    "X_val = val_df['input_tokens'].tolist()\n",
    "y_val = val_df['pos_tokens'].tolist()"
   ]
  },
  {
   "cell_type": "code",
   "execution_count": 49,
   "metadata": {
    "id": "yQPOVz3J_fiq"
   },
   "outputs": [
    {
     "name": "stdout",
     "output_type": "stream",
     "text": [
      "Length of X_train: 196\n",
      "Length of y_train: 196\n",
      "Length of X_val: 84\n",
      "Length of y_val: 84\n"
     ]
    }
   ],
   "source": [
    "# validate the shape of training and validation samples\n",
    "print(\"Length of X_train:\", len(X_train))\n",
    "print(\"Length of y_train:\", len(y_train))\n",
    "print(\"Length of X_val:\", len(X_val))\n",
    "print(\"Length of y_val:\", len(y_val))\n"
   ]
  },
  {
   "cell_type": "markdown",
   "metadata": {
    "id": "8uicUYglLeiA"
   },
   "source": [
    "###### **3.1.4** **Display the number of unique labels present in y_train** <font color = red> [2 marks]</font> <br>"
   ]
  },
  {
   "cell_type": "code",
   "execution_count": 50,
   "metadata": {
    "id": "hzWtzpdINt6X"
   },
   "outputs": [
    {
     "name": "stdout",
     "output_type": "stream",
     "text": [
      "Number of unique labels in y_train: 3\n",
      "Unique labels: ['ingredient', 'quantity', 'unit']\n"
     ]
    }
   ],
   "source": [
    "# Display the number of unique labels present in y_train\n",
    "\n",
    "unique_labels = set(label for sequence in y_train for label in sequence)\n",
    "print(\"Number of unique labels in y_train:\", len(unique_labels))\n",
    "print(\"Unique labels:\", sorted(unique_labels))\n"
   ]
  },
  {
   "cell_type": "markdown",
   "metadata": {
    "id": "QFm46QrB4gmj"
   },
   "source": [
    "## **4** Exploratory Recipe Data Analysis on Training Dataset <font color = red>[16 marks]</font> <br>"
   ]
  },
  {
   "cell_type": "markdown",
   "metadata": {
    "id": "KUWIp0n_NeH6"
   },
   "source": [
    "#### **4.1** *Flatten the lists for input_tokens & pos_tokens* <font color = red>[2 marks]</font> <br>\n",
    "\n",
    "Define a function **flatten_list** for flattening the structure for input_tokens and pos_tokens. The input parameter passed to this function is a nested list.\n",
    "\n",
    "Initialise the dataset_name with a value ***'Training'***\n",
    "\n",
    "\n"
   ]
  },
  {
   "cell_type": "code",
   "execution_count": 51,
   "metadata": {
    "id": "WzcY0gPiOe8o"
   },
   "outputs": [],
   "source": [
    "# flatten the list for nested_list (input_tokens, pos_tokens)\n",
    "\n",
    "def flatten_list(nested_list, dataset_name='Training'):\n",
    "    print(f\"Flattening {dataset_name} dataset...\")\n",
    "    flat_list = []\n",
    "    for sublist in nested_list:\n",
    "        flat_list.extend(sublist)\n",
    "    return flat_list"
   ]
  },
  {
   "cell_type": "code",
   "execution_count": 52,
   "metadata": {
    "id": "DXRda29gNBH8"
   },
   "outputs": [],
   "source": [
    "# initialise the dataset_name\n",
    "dataset_name = 'Training'"
   ]
  },
  {
   "cell_type": "markdown",
   "metadata": {
    "id": "eGOqhd8OOr1E"
   },
   "source": [
    "#### **4.2** *Extract and validate the tokens after using the flattening technique* <font color = red>[2 marks]</font> <br>\n",
    "\n",
    "Define a function named ***extract_and_validate_tokens*** with parameters dataframe and dataset_name (Training/Validation), validate the length of input_tokens and pos_tokens from dataframe and display first 10 records for both the input_tokens and pos_tokens. Execute this function\n",
    "\n",
    "\n"
   ]
  },
  {
   "cell_type": "code",
   "execution_count": 53,
   "metadata": {
    "id": "H3GMX83xP7ja"
   },
   "outputs": [],
   "source": [
    "# define a extract_and_validate_tokens with parameters (df, dataset_name)\n",
    "# call the flatten_list and apply it on input_tokens and pos_tokens\n",
    "# validate their length and display first 10 records having input and pos tokens\n",
    "\n",
    "def extract_and_validate_tokens(df, dataset_name='Training'):    \n",
    "    # Flatten the tokens\n",
    "    flat_inputs = flatten_list(df['input_tokens'].tolist(), dataset_name)\n",
    "    flat_labels = flatten_list(df['pos_tokens'].tolist(), dataset_name)\n",
    "\n",
    "    print(f\" input_tokens = {len(flat_inputs)}, pos_tokens = {len(flat_labels)}\")\n",
    "    \n",
    "    # Validate lengths\n",
    "    if len(flat_inputs) != len(flat_labels):\n",
    "        print(f\"Length mismatch: input_tokens = {len(flat_inputs)}, pos_tokens = {len(flat_labels)}\")\n",
    "    else:\n",
    "        print(f\"Length match: {len(flat_inputs)} tokens\")\n",
    "\n",
    "    # Display first 10 tokens\n",
    "    print(\"\\nFirst 10 input tokens:\", flat_inputs[:10])\n",
    "    print(\"First 10 POS tags:    \", flat_labels[:10])\n",
    "        \n",
    "    return flat_inputs , flat_labels\n"
   ]
  },
  {
   "cell_type": "code",
   "execution_count": 54,
   "metadata": {
    "id": "ajdbYMgeLpf9",
    "scrolled": true
   },
   "outputs": [
    {
     "name": "stdout",
     "output_type": "stream",
     "text": [
      "Flattening Training dataset...\n",
      "Flattening Training dataset...\n",
      " input_tokens = 7114, pos_tokens = 7114\n",
      "Length match: 7114 tokens\n",
      "\n",
      "First 10 input tokens: ['250', 'grams', 'Okra', 'Oil', '1', 'Onion', 'finely', 'chopped', 'Tomato', 'Grated']\n",
      "First 10 POS tags:     ['quantity', 'unit', 'ingredient', 'ingredient', 'quantity', 'ingredient', 'ingredient', 'ingredient', 'ingredient', 'ingredient']\n"
     ]
    }
   ],
   "source": [
    "# extract the tokens and its pos tags\n",
    "tokens, pos_tags = extract_and_validate_tokens(train_df, dataset_name='Training')\n"
   ]
  },
  {
   "cell_type": "markdown",
   "metadata": {
    "id": "htZVn5wcQSok"
   },
   "source": [
    "#### **4.3** *Categorise tokens into labels (unit, ingredient, quantity)* <font color = red>[2 marks]</font> <br>\n",
    "\n",
    "Define a function ***categorize_tokens*** to categorise tokens into ingredients, units and quantities by using extracted tokens in the previous code and return a list of ingredients, units and quantities. Execute this function to get the list.\n",
    "\n"
   ]
  },
  {
   "cell_type": "code",
   "execution_count": 55,
   "metadata": {
    "id": "7xq0a4L7Quct"
   },
   "outputs": [],
   "source": [
    "# define a categorize_tokens function and provide the tokens and pos_tags as parameters and create ingredient, unit and quantity list and return it\n",
    "# validate the list that it comprised of these labels, if not return empty arrays\n",
    "\n",
    "def categorize_tokens(tokens, pos_tags):\n",
    "    print(\"\\nCategorizing tokens...\")\n",
    "\n",
    "    # Check lengths\n",
    "    if len(tokens) != len(pos_tags):\n",
    "        print(\"tokens and pos_tags must be the same length.\")\n",
    "        return [], [], []\n",
    "\n",
    "    # Allowed tags\n",
    "    allowed = ['ingredient', 'unit', 'quantity']\n",
    "    \n",
    "    # If any tag is not allowed, return empty\n",
    "    for tag in pos_tags:\n",
    "        if tag not in allowed:\n",
    "            print(\"Found invalid tag:\", tag)\n",
    "            return [], [], [] \n",
    "\n",
    "    # Create category lists\n",
    "    ingredients = []\n",
    "    units = []\n",
    "    quantities = []\n",
    "\n",
    "    # Loop and assign based on tag\n",
    "    for token, tag in zip(tokens, pos_tags):\n",
    "        if tag == 'ingredient':\n",
    "            ingredients.append(token)\n",
    "        elif tag == 'unit':\n",
    "            units.append(token)\n",
    "        elif tag == 'quantity':\n",
    "            quantities.append(token)\n",
    "\n",
    "    return ingredients, units, quantities\n"
   ]
  },
  {
   "cell_type": "code",
   "execution_count": 56,
   "metadata": {
    "id": "evcsigvUL7bM"
   },
   "outputs": [
    {
     "name": "stdout",
     "output_type": "stream",
     "text": [
      "\n",
      "Categorizing tokens...\n",
      "Ingredients: ['Okra', 'Oil', 'Onion', 'finely', 'chopped', 'Tomato', 'Grated', 'Ginger', 'Garlic', 'Finely']\n",
      "Units: ['grams', 'teaspoon', 'Teaspoon', 'cup', 'grams', 'tablespoon', 'teaspoon', 'grams', 'teaspoon', 'sprig']\n",
      "Quantities: ['250', '1', '2', '1/2', '1/4', '200', '2', '1', '1/2', '500']\n"
     ]
    }
   ],
   "source": [
    "#  call the function to categorise the labels into respective list\n",
    "ingredients, units, quantities = categorize_tokens(tokens, pos_tags)\n",
    "\n",
    "print(\"Ingredients:\", ingredients[:10])\n",
    "print(\"Units:\", units[:10])\n",
    "print(\"Quantities:\", quantities[:10])"
   ]
  },
  {
   "cell_type": "code",
   "execution_count": 108,
   "metadata": {},
   "outputs": [
    {
     "data": {
      "image/png": "[encoded data removed]",
      "text/plain": [
       "<Figure size 800x500 with 1 Axes>"
      ]
     },
     "metadata": {},
     "output_type": "display_data"
    }
   ],
   "source": [
    "import matplotlib.pyplot as plt\n",
    "\n",
    "# Sample lengths (assuming categorize_tokens returned real lists)\n",
    "ingredient_count = len(ingredients)\n",
    "unit_count = len(units)\n",
    "quantity_count = len(quantities)\n",
    "\n",
    "# Prepare data for plotting\n",
    "labels = ['Ingredients', 'Units', 'Quantities']\n",
    "counts = [ingredient_count, unit_count, quantity_count]\n",
    "\n",
    "# Plot\n",
    "plt.figure(figsize=(8, 5))\n",
    "bars = plt.bar(labels, counts)\n",
    "plt.title('POS Tag Distribution')\n",
    "plt.ylabel('Count')\n",
    "plt.xlabel('Entity Type')\n",
    "\n",
    "# Annotate bars with counts\n",
    "for bar in bars:\n",
    "    height = bar.get_height()\n",
    "    plt.text(bar.get_x() + bar.get_width()/2, height + 2, str(height), ha='center')\n",
    "\n",
    "plt.tight_layout()\n",
    "plt.grid(axis='y', linestyle='--', alpha=0.7)\n",
    "plt.show()"
   ]
  },
  {
   "cell_type": "markdown",
   "metadata": {
    "id": "QSGau4EgZCix"
   },
   "source": [
    "#### **4.4** *Top 10 Most Frequent Items* <font color = red>[3 marks]</font> <br>\n",
    "\n",
    "Define a function ***get_top_frequent_items*** to display top 10 most frequent items\n",
    "\n",
    "Here, item_list is used as a general parameter where you will call this function for ingredient and unit list\n",
    "\n",
    "Execute this function separately for top 10 most units and ingredients\n",
    "\n"
   ]
  },
  {
   "cell_type": "code",
   "execution_count": 57,
   "metadata": {
    "id": "kXc8h3H4ZOZ4"
   },
   "outputs": [],
   "source": [
    "# define a function get_top_frequent_items to get the top frequent items by using item_list, pos label and dataset_name(Training/Validation) and return top items\n",
    "def get_top_frequent_items(item_list, title=\"Items\"):\n",
    "    print(f\"\\nTop 10 most frequent {title.lower()}:\")\n",
    "    top_items_10 = Counter(item_list).most_common(10)\n",
    "    return top_items_10    "
   ]
  },
  {
   "cell_type": "code",
   "execution_count": 58,
   "metadata": {
    "id": "W2jZCCf2MEke"
   },
   "outputs": [
    {
     "name": "stdout",
     "output_type": "stream",
     "text": [
      "\n",
      "Top 10 most frequent ingredients:\n",
      "powder: 129\n",
      "Salt: 102\n",
      "seeds: 89\n",
      "Green: 85\n",
      "chopped: 84\n",
      "Oil: 83\n",
      "Red: 81\n",
      "Chilli: 77\n",
      "Coriander: 71\n",
      "Sunflower: 65\n"
     ]
    }
   ],
   "source": [
    "# get the top ingredients which are frequently seen in the recipe\n",
    "top_items_ingredients = get_top_frequent_items(ingredients, title=\"Ingredients\")\n",
    "for item, count in top_items_ingredients:\n",
    "        print(f\"{item}: {count}\")"
   ]
  },
  {
   "cell_type": "code",
   "execution_count": 59,
   "metadata": {
    "id": "wipghGXAMYQR"
   },
   "outputs": [
    {
     "name": "stdout",
     "output_type": "stream",
     "text": [
      "\n",
      "Top 10 most frequent units:\n",
      "teaspoon: 162\n",
      "cup: 136\n",
      "tablespoon: 99\n",
      "grams: 63\n",
      "tablespoons: 61\n",
      "inch: 52\n",
      "cups: 50\n",
      "sprig: 41\n",
      "cloves: 39\n",
      "teaspoons: 39\n"
     ]
    }
   ],
   "source": [
    "# get the top units which are frequently seen in the recipe\n",
    "top_items_units = get_top_frequent_items(units, title=\"Units\")\n",
    "for item, count in top_items_units:\n",
    "        print(f\"{item}: {count}\")"
   ]
  },
  {
   "cell_type": "markdown",
   "metadata": {
    "id": "9hldpjOHaPVZ"
   },
   "source": [
    "#### **4.5** *Plot Top 10 most frequent items* <font color = red>[2 marks]</font> <br>\n",
    "\n",
    "\n"
   ]
  },
  {
   "cell_type": "markdown",
   "metadata": {
    "id": "9ImpWstybDP_"
   },
   "source": [
    "Define a function ***plot_top_items*** to plot a bar graph on top 10 most frequent items for units and ingredients\n",
    "\n",
    "Here, item_list is used as a general parameter where you will call this function for ingredient and unit list"
   ]
  },
  {
   "cell_type": "code",
   "execution_count": 60,
   "metadata": {
    "id": "Gmsq0L1vaxfc"
   },
   "outputs": [],
   "source": [
    "# define plot top items with parameters - top_item list, label to suggest whether its ingredient or unit, dataset_name\n",
    "\n",
    "\n",
    "import matplotlib.pyplot as plt\n",
    "\n",
    "def plot_top_items(item_list, label='Item', dataset_name='Dataset'):\n",
    "    # Get top items using existing function\n",
    "    top_items = get_top_frequent_items(item_list, title=label)\n",
    "    \n",
    "    # Unpack for plotting\n",
    "    items, counts = zip(*top_items)\n",
    "\n",
    "    # Plot\n",
    "    plt.figure(figsize=(10, 6))\n",
    "    plt.bar(items, counts)\n",
    "    plt.title(f\"Top 10 {label}s in {dataset_name} Dataset\")\n",
    "    plt.xlabel(label)\n",
    "    plt.ylabel(\"Frequency\")\n",
    "    plt.xticks(rotation=45)\n",
    "    plt.grid(axis='y', linestyle='--', alpha=0.7)\n",
    "    plt.tight_layout()\n",
    "    plt.show()\n",
    "\n"
   ]
  },
  {
   "cell_type": "markdown",
   "metadata": {
    "id": "rHusCfkJ4suh"
   },
   "source": [
    "#### **4.6** *Perform EDA analysis* <font color = red>[5 marks]</font> <br>\n",
    "\n",
    "Plot the bar plots for ingredients and units and provide the insights for training dataset\n",
    "\n",
    "---\n",
    "\n"
   ]
  },
  {
   "cell_type": "code",
   "execution_count": 61,
   "metadata": {
    "id": "8seIqFKyYFmn"
   },
   "outputs": [
    {
     "name": "stdout",
     "output_type": "stream",
     "text": [
      "\n",
      "Top 10 most frequent ingredient:\n"
     ]
    },
    {
     "data": {
      "image/png": "[encoded data removed]",
      "text/plain": [
       "<Figure size 1000x600 with 1 Axes>"
      ]
     },
     "metadata": {},
     "output_type": "display_data"
    }
   ],
   "source": [
    "# plot the top frequent ingredients in training data\n",
    "plot_top_items(ingredients, label='Ingredient', dataset_name='Training')\n"
   ]
  },
  {
   "cell_type": "code",
   "execution_count": 62,
   "metadata": {
    "id": "fbXAwiUkMtqT"
   },
   "outputs": [
    {
     "name": "stdout",
     "output_type": "stream",
     "text": [
      "\n",
      "Top 10 most frequent unit:\n"
     ]
    },
    {
     "data": {
      "image/png": "[encoded data removed]",
      "text/plain": [
       "<Figure size 1000x600 with 1 Axes>"
      ]
     },
     "metadata": {},
     "output_type": "display_data"
    }
   ],
   "source": [
    "# plot the top frequent units in training data\n",
    "plot_top_items(units, label='Unit', dataset_name='Training')"
   ]
  },
  {
   "cell_type": "markdown",
   "metadata": {
    "id": "vYh7zbJpCajJ"
   },
   "source": [
    "## **5** Exploratory Recipe Data Analysis on Validation Dataset (Optional)<font color = red> [0 marks]</font> <br>"
   ]
  },
  {
   "cell_type": "markdown",
   "metadata": {
    "id": "K2wPIaOGCmk2"
   },
   "source": [
    "#### **5.1** *Execute EDA on Validation Dataset with insights (Optional)* <font color = red> [0 marks]</font> <br>\n",
    "Initialise the dataset_name as ***Validation*** and call the ***plot_top_items*** for top 10 ingredients and units in the recipe data\n",
    "Provide the insights for the same.\n",
    "\n"
   ]
  },
  {
   "cell_type": "code",
   "execution_count": 63,
   "metadata": {
    "id": "atSk0ChLPXHd"
   },
   "outputs": [],
   "source": [
    "# initialise the dataset_name\n"
   ]
  },
  {
   "cell_type": "code",
   "execution_count": 64,
   "metadata": {
    "id": "AFPxheIuj1o8"
   },
   "outputs": [],
   "source": [
    "# use extract and validate tokens, categorise tokens, get top frequent items for ingredient list and unit list on validation dataframe\n"
   ]
  },
  {
   "cell_type": "code",
   "execution_count": 65,
   "metadata": {
    "id": "ikwox7ccMaU8"
   },
   "outputs": [],
   "source": [
    "# plot the top frequent ingredients in validation data\n"
   ]
  },
  {
   "cell_type": "code",
   "execution_count": 66,
   "metadata": {
    "id": "9QjVeMWpPwKO"
   },
   "outputs": [],
   "source": [
    "# plot the top frequent units in training data\n"
   ]
  },
  {
   "cell_type": "markdown",
   "metadata": {
    "id": "IvE92ait9GIS"
   },
   "source": [
    "## **6** Feature Extraction For CRF Model <font color = red>[30 marks]</font> <br>"
   ]
  },
  {
   "cell_type": "markdown",
   "metadata": {
    "id": "Gc5Q_Lj09GIT"
   },
   "source": [
    "### **6.1** *Define a feature functions to take each token from recipe* <font color = red>[10 marks]</font>\n",
    "\n",
    "Define a function as ***word2features*** which takes a particular recipe and its index to work with all recipe input tokens and include custom key-value pairs.\n",
    "\n",
    "Also, use feature key-value pairs to mark the beginning and end of the sequence and to also check whether the word belongs to unit, quantity etc. Use keyword sets for unit and quantity for differentiating feature functions well. Also make use of relevant regex patterns on fractions, whole numbers etc."
   ]
  },
  {
   "cell_type": "markdown",
   "metadata": {
    "id": "pyxmQ0PrhBra"
   },
   "source": [
    "##### **6.1.1** **Define keywords for unit and quantity and create a quantity pattern to work on fractions, numbers and decimals** <font color = red>[3 marks]</font> <br>\n",
    "\n",
    "Create sets for **unit_keywords** and ***quantity_keywords*** and include all the words relevant for measuring the ingredients such as cup, tbsp, tsp etc. and in quantity keywords, include words such as half, quarter etc.\n",
    "\n",
    "Also suggested to use regex pattern as ***quantity_pattern*** to work with quantity in any format such as fractions, numbers and decimals.\n",
    "\n",
    "Then, load the spacy model and process the entire sentence"
   ]
  },
  {
   "cell_type": "code",
   "execution_count": 67,
   "metadata": {},
   "outputs": [],
   "source": [
    "#unique_units = list(set(units))\n",
    "#unique_quantities = list(set(quantities))"
   ]
  },
  {
   "cell_type": "code",
   "execution_count": 68,
   "metadata": {
    "id": "GhFUPxeth0KI"
   },
   "outputs": [],
   "source": [
    "# define unit and quantity keywords along with quantity pattern\n",
    "\n",
    "# will drop these inconsistenient unit\n",
    "#[raw, cut, chopped, finely, thin, thick, small, long, whole, or, for]\n",
    "\n",
    "unit_keywords = {\n",
    "    'teaspoon', 'teaspoons', 'tsp',\n",
    "    'tablespoon', 'tablespoons', 'tbsp',\n",
    "    'cup', 'cups',\n",
    "    'pinch', 'pinches',\n",
    "    'gram', 'grams', 'gms',\n",
    "    'ml', 'liter',\n",
    "    'scoop', 'scoops',\n",
    "    'clove', 'cloves',\n",
    "    'drop', 'drops',\n",
    "    'sprig', 'sprigs',\n",
    "    'stalk', 'stalks',\n",
    "    'inch', 'inches',\n",
    "    'handful', 'fistful',\n",
    "    'wedge', 'wedges'\n",
    "}\n",
    "quantity_keywords = {\n",
    "    'half', 'quarter', 'third', 'few', 'little', 'some',\n",
    "    'one', 'two', 'three', 'four', 'five', 'six',\n",
    "    'seven', 'eight', 'nine', 'ten',\n",
    "    'a', 'an', 'as', 'per', 'to', 'for', 'taste'\n",
    "}\n",
    "# Regex pattern to detect fractions, decimals, and whole numbers\n",
    "quantity_pattern = re.compile(r'^(\\d+([-/.]\\d+)*|\\d+\\.\\d+)$')"
   ]
  },
  {
   "cell_type": "code",
   "execution_count": 69,
   "metadata": {
    "id": "9qmM8rw4VtJh"
   },
   "outputs": [],
   "source": [
    "# load spaCy model\n",
    "\n",
    "import spacy\n",
    "\n",
    "# Load SpaCy English model\n",
    "nlp = spacy.load(\"en_core_web_sm\")\n"
   ]
  },
  {
   "cell_type": "markdown",
   "metadata": {
    "id": "vrYD5tMNiFc-"
   },
   "source": [
    "##### **6.1.2** **Define feature functions for CRF** <font color = red>[7 marks]</font> <br>\n",
    "\n",
    "Define ***word2features*** function and use the parameters such as sentence and its indexing as ***sent*** and ***i*** for extracting token level features for CRF Training.\n",
    "Build ***features*** dictionary, also mark the beginning and end of the sequence and use the ***unit_keywords***, ***quantity_keywords*** and ***quantity_pattern*** for knowing the presence of quantity or unit in the tokens"
   ]
  },
  {
   "cell_type": "markdown",
   "metadata": {
    "id": "yAjf6j-dQtpr"
   },
   "source": [
    "While building ***features*** dictionary, include\n",
    "- ***Core Features*** - The core features of a token should capture its lexical\n",
    "and grammatical properties. Include attributes like the raw token, its lemma, part-of-speech tag, dependency relation, and shape, as well as indicators for whether it's a stop word, digit, or punctuation. The details of the features are given below:\n",
    "\n",
    "    - `bias` - Constant feature with a fixed value of 1.0 to aid model learning.\n",
    "    - `token` - The lowercase form of the current token.\n",
    "    - `lemma` - The lowercase lemma (base form) of the token.\n",
    "    - `pos_tag` - Part-of-speech (POS) tag of the token.\n",
    "    - `tag` - Detailed POS tag of the token.\n",
    "    - `dep` - Dependency relation of the token in the sentence.\n",
    "    - `shape` - Shape of the token (e.g., \"Xxx\" for \"Milk\").\n",
    "    - `is_stop` - Boolean indicating if the token is a stopword.\n",
    "    - `is_digit` - Boolean indicating if the token consists of only digits.\n",
    "    - `has_digit` - Boolean indicating if the token contains at least one digit.\n",
    "    - `has_alpha` - Boolean indicating if the token contains at least one alphabetic character.\n",
    "    - `hyphenated` - Boolean indicating if the token contains a hyphen (-).\n",
    "    - `slash_present` - Boolean indicating if the token contains a slash (/).\n",
    "    - `is_title` - Boolean indicating if the token starts with an uppercase letter.\n",
    "    - `is_upper` - Boolean indicating if the token is fully uppercase.\n",
    "    - `is_punct` - Boolean indicating if the token is a punctuation mark.\n",
    "\n",
    "- ***Improved Quantity and Unit Detection*** - Use key-value pairs to mark the presence of quantities and units in the features dictionary. Utilise the unit_keywords, quantity_keywords, and quantity_pattern to identify and flag these elements. The details of the features are given below:\n",
    "\n",
    "    - `is_quantity` - Boolean indicating if the token matches a quantity pattern or keyword.\n",
    "    - `is_unit` - Boolean indicating if the token is a known measurement unit.\n",
    "    - `is_numeric` - Boolean indicating if the token matches a numeric pattern.\n",
    "    - `is_fraction` - Boolean indicating if the token represents a fraction (e.g., 1/2).\n",
    "    - `is_decimal` - Boolean indicating if the token represents a decimal number (e.g., 3.14).\n",
    "    - `preceding_word` - The previous token in the sentence, if available.\n",
    "    - `following_word` - The next token in the sentence, if available.\n",
    "\n",
    "- ***Contextual Features*** - Incorporate contextual information by adding features for the preceding and following tokens. Include indicators like BOS and EOS to mark the beginning and end of the sequence, and utilise unit_keywords, quantity_keywords, and quantity_pattern to identify the types of neighboring tokens. The features are given below:\n",
    "\n",
    "    - `prev_token` - The lowercase form of the previous token.\n",
    "    - `prev_is_quantity` - Boolean indicating if the previous token is a quantity.\n",
    "    - `prev_is_digit` - Boolean indicating if the previous token is a digit.\n",
    "    - `BOS` - Boolean indicating if the token is at the beginning of the sentence.\n",
    "    - `next_token` - The lowercase form of the next token.\n",
    "    - `next_is_unit` - Boolean indicating if the next token is a unit.\n",
    "    - `next_is_ingredient` - Boolean indicating if the next token is not a unit or quantity.\n",
    "    - `EOS` - Boolean indicating if the token is at the end of the sentence.\n",
    "\n"
   ]
  },
  {
   "cell_type": "code",
   "execution_count": 70,
   "metadata": {
    "id": "pRU7efTF9GIW"
   },
   "outputs": [],
   "source": [
    "# define word2features for processing each token in the sentence sent by using index i.\n",
    "# use your own feature functions\n",
    "\n",
    "    # Process the entire sentence with spaCy\n",
    "\n",
    "    # --- Core Features ---\n",
    "\n",
    "    # --- Improved Quantity & Unit Detection ---\n",
    "\n",
    "    # --- Contextual Features ---\n",
    "\n",
    "\n",
    "def word2features(sent, i):\n",
    "    # Token and context\n",
    "    token = sent[i]\n",
    "    doc = nlp(token)[0]  # Process with spaCy\n",
    "\n",
    "    features = {\n",
    "        # --- Core Features ---\n",
    "        'bias': 1.0,\n",
    "        'token': token.lower(),\n",
    "        'lemma': doc.lemma_.lower(),\n",
    "        'pos_tag': doc.pos_,\n",
    "        'tag': doc.tag_,\n",
    "        'dep': doc.dep_,\n",
    "        'shape': doc.shape_,\n",
    "        'is_stop': doc.is_stop,\n",
    "        'is_digit': token.isdigit(),\n",
    "        'has_digit': any(c.isdigit() for c in token),\n",
    "        'has_alpha': any(c.isalpha() for c in token),\n",
    "        'hyphenated': '-' in token,\n",
    "        'slash_present': '/' in token,\n",
    "        'is_title': token.istitle(),\n",
    "        'is_upper': token.isupper(),\n",
    "        'is_punct': doc.is_punct,\n",
    "\n",
    "        # --- Improved Quantity & Unit Detection ---\n",
    "        'is_quantity': token.lower() in quantity_keywords or bool(quantity_pattern.match(token)),\n",
    "        'is_unit': token.lower() in unit_keywords,\n",
    "        'is_numeric': token.replace('.', '', 1).isdigit(),\n",
    "        'is_fraction': '/' in token and all(part.isdigit() for part in token.split('/') if part),\n",
    "        'is_decimal': '.' in token and token.replace('.', '', 1).isdigit()\n",
    "    }\n",
    "\n",
    "    # --- Contextual Features ---\n",
    "    # Previous token\n",
    "    if i > 0:\n",
    "        prev_token = sent[i - 1].lower()\n",
    "        features.update({\n",
    "            'prev_token': prev_token,\n",
    "            'prev_is_quantity': prev_token in quantity_keywords or bool(quantity_pattern.match(prev_token)),\n",
    "            'prev_is_digit': prev_token.isdigit()\n",
    "        })\n",
    "    else:\n",
    "        features['BOS'] = True  # Beginning of Sentence\n",
    "\n",
    "    # Next token\n",
    "    if i < len(sent) - 1:\n",
    "        next_token = sent[i + 1].lower()\n",
    "        features.update({\n",
    "            'next_token': next_token,\n",
    "            'next_is_unit': next_token in unit_keywords,\n",
    "            'next_is_ingredient': next_token not in unit_keywords and next_token not in quantity_keywords\n",
    "        })\n",
    "    else:\n",
    "        features['EOS'] = True  # End of Sentence\n",
    "\n",
    "    return features\n",
    "\n"
   ]
  },
  {
   "cell_type": "markdown",
   "metadata": {
    "id": "hJm2nUw0998s"
   },
   "source": [
    "### **6.2** *Preparation of Recipe level features* <font color = red>[2 marks]</font>\n"
   ]
  },
  {
   "cell_type": "markdown",
   "metadata": {
    "id": "KL19ooQejA5z"
   },
   "source": [
    "##### **6.2.1** **Define function to work on all the recipes and call word2features for each recipe** <font color = red>[2 marks]</font> <br>\n",
    "\n",
    "Define ***sent2features*** function and inputs ***sent*** as a parameter and correctly generate feature functions for each token present in the sentence"
   ]
  },
  {
   "cell_type": "code",
   "execution_count": 71,
   "metadata": {
    "id": "NlQEifz-9GIW"
   },
   "outputs": [],
   "source": [
    "# define sent2features by working on each token in the sentence and correctly generate dictionaries for features\n",
    "\n",
    "def sent2features(sent):\n",
    "    return [word2features(sent, i) for i in range(len(sent))]\n"
   ]
  },
  {
   "cell_type": "markdown",
   "metadata": {
    "id": "FOK0t3c6-RiV"
   },
   "source": [
    "### **6.3** *Convert X_train, X_val, y_train and y_val into train and validation feature sets and labels* <font color = red>[6 marks]</font>\n",
    "\n"
   ]
  },
  {
   "cell_type": "markdown",
   "metadata": {
    "id": "7tsd50b_nX0J"
   },
   "source": [
    "##### **6.3.1** **Convert recipe into feature functions by using X_train and X_val** <font color = red>[2 marks]</font> <br>\n",
    "\n",
    "Create ***X_train_features*** and ***X_val_features*** as list to include the feature functions for each recipe present in training and validation sets"
   ]
  },
  {
   "cell_type": "code",
   "execution_count": 72,
   "metadata": {
    "id": "-bVPGPa39GIW"
   },
   "outputs": [],
   "source": [
    "# Convert input sentences into feature sets by taking training and validation dataset as X_train_features and X_val_features\n",
    "X_train_features = [sent2features(recipe) for recipe in X_train]\n",
    "X_val_features = [sent2features(recipe) for recipe in X_val]\n"
   ]
  },
  {
   "cell_type": "code",
   "execution_count": 73,
   "metadata": {
    "scrolled": true
   },
   "outputs": [],
   "source": [
    "#for token_feats in X_train_features[0]:\n",
    "    #print(token_feats)"
   ]
  },
  {
   "cell_type": "markdown",
   "metadata": {
    "id": "jcwmwXn-n6cs"
   },
   "source": [
    "##### **6.3.2** **Convert lables of y_train and y_val into list** <font color = red>[2 marks]</font> <br>\n",
    "\n",
    "Create ***y_train_labels*** and ***y_val_labels*** by using the list of y_train and y_val"
   ]
  },
  {
   "cell_type": "code",
   "execution_count": 74,
   "metadata": {
    "id": "TiGgP3O6nfPg"
   },
   "outputs": [],
   "source": [
    "# Convert labels into list as y_train_labels and y_val_labels\n",
    "y_train_labels = y_train.copy()\n",
    "y_val_labels = y_val.copy()\n"
   ]
  },
  {
   "cell_type": "markdown",
   "metadata": {
    "id": "4c-kjqtaoZvb"
   },
   "source": [
    "##### **6.3.3** **Print the length of val and train features and labels** <font color = red>[2 marks]</font> <br>\n",
    "\n"
   ]
  },
  {
   "cell_type": "code",
   "execution_count": 75,
   "metadata": {
    "id": "mWId2Nn0okMV"
   },
   "outputs": [
    {
     "name": "stdout",
     "output_type": "stream",
     "text": [
      "Training Features: 196\n",
      "Training Labels:   196\n"
     ]
    }
   ],
   "source": [
    "# print the length of train features and labels\n",
    "# Training set\n",
    "print(\"Training Features:\", len(X_train_features))\n",
    "print(\"Training Labels:  \", len(y_train_labels))\n",
    "\n"
   ]
  },
  {
   "cell_type": "code",
   "execution_count": 76,
   "metadata": {
    "id": "LAt_m_LubRvn"
   },
   "outputs": [
    {
     "name": "stdout",
     "output_type": "stream",
     "text": [
      "Validation Features: 84\n",
      "Validation Labels:   84\n"
     ]
    }
   ],
   "source": [
    "# print the length of validation features and labels\n",
    "\n",
    "# Validation set\n",
    "print(\"Validation Features:\", len(X_val_features))\n",
    "print(\"Validation Labels:  \", len(y_val_labels))"
   ]
  },
  {
   "cell_type": "markdown",
   "metadata": {
    "id": "dZffFBH-pVhx"
   },
   "source": [
    "### **6.4** *Applying weights to feature sets* <font color = red>[12 marks]</font> <br>\n",
    "\n",
    "\n"
   ]
  },
  {
   "cell_type": "markdown",
   "metadata": {
    "id": "Goh_fX-6pqhN"
   },
   "source": [
    "##### **6.4.1** **Flatten the labels of y_train** <font color = red>[2 marks]</font> <br>\n",
    "\n",
    "Create ***y_train_flat*** to flatten the structure of nested y_train"
   ]
  },
  {
   "cell_type": "code",
   "execution_count": 77,
   "metadata": {
    "id": "adLWfYn_p3gM"
   },
   "outputs": [],
   "source": [
    "# Flatten labels in y_train\n",
    "y_train_flat = [label for seq in y_train_labels for label in seq]\n"
   ]
  },
  {
   "cell_type": "markdown",
   "metadata": {
    "id": "qk9UMBrbp9dp"
   },
   "source": [
    "##### **6.4.2** **Count the labels present in training target dataset** <font color = red>[2 marks]</font> <br>\n",
    "\n",
    "Create ***label_counts*** to count the frequencies of labels present in y_train_flat and retrieve the total samples by using the values of label_counts as ***total_samples***"
   ]
  },
  {
   "cell_type": "code",
   "execution_count": 78,
   "metadata": {
    "id": "6Kiu8jckqZSH"
   },
   "outputs": [],
   "source": [
    "# Count label frequencies as label_counts and total_samples as getting the summation of values of label_counts\n",
    "from collections import Counter\n",
    "\n",
    "label_counts = Counter(y_train_flat)\n",
    "total_samples = sum(label_counts.values())\n"
   ]
  },
  {
   "cell_type": "code",
   "execution_count": 79,
   "metadata": {},
   "outputs": [
    {
     "name": "stdout",
     "output_type": "stream",
     "text": [
      "Label Counts: Counter({'ingredient': 5323, 'quantity': 980, 'unit': 811})\n",
      "Total Samples: 7114\n"
     ]
    }
   ],
   "source": [
    "print(\"Label Counts:\", label_counts)\n",
    "print(\"Total Samples:\", total_samples)"
   ]
  },
  {
   "cell_type": "markdown",
   "metadata": {
    "id": "4aCmDsZYqYA-"
   },
   "source": [
    "##### **6.4.3** **Compute weight_dict by using inverse frequency method for label weights** <font color = red>[2 marks]</font> <br>\n",
    "\n",
    "- Create ***weight_dict*** as dictionary with label and its inverse frequency count in ***label_counts***\n",
    "\n",
    "- Penalise ingredient label in the dictionary"
   ]
  },
  {
   "cell_type": "code",
   "execution_count": 80,
   "metadata": {
    "id": "FpbEAZ3zqxEo"
   },
   "outputs": [],
   "source": [
    "# Compute class weights (inverse frequency method) by considering total_samples and label_counts\n",
    "\n",
    "weight_dict = {\n",
    "    label: total_samples / count\n",
    "    for label, count in label_counts.items()\n",
    "}"
   ]
  },
  {
   "cell_type": "code",
   "execution_count": 81,
   "metadata": {},
   "outputs": [
    {
     "name": "stdout",
     "output_type": "stream",
     "text": [
      "weight_dict (Inverse Frequency):\n",
      "quantity: 7.26\n",
      "unit: 8.77\n",
      "ingredient: 1.34\n"
     ]
    }
   ],
   "source": [
    "print(\"weight_dict (Inverse Frequency):\")\n",
    "for label, weight in weight_dict.items():\n",
    "    print(f\"{label}: {weight:.2f}\")"
   ]
  },
  {
   "cell_type": "code",
   "execution_count": 82,
   "metadata": {
    "id": "hns3HbujXESs"
   },
   "outputs": [],
   "source": [
    "# penalise ingredient label\n",
    "if 'ingredient' in weight_dict:\n",
    "    weight_dict['ingredient'] *= 2\n"
   ]
  },
  {
   "cell_type": "markdown",
   "metadata": {
    "id": "V8TdHMlPrhh8"
   },
   "source": [
    "##### **6.4.4** **Extract features along with class weights** <font color = red>[4 marks]</font> <br>\n",
    "\n",
    "Define a function ***extract_features_with_class_weights*** to work with training and validation datasets and extract features by applying class weights\n",
    "\n",
    "\n",
    "\n"
   ]
  },
  {
   "cell_type": "code",
   "execution_count": 83,
   "metadata": {
    "id": "1km6GR4TjXPX"
   },
   "outputs": [],
   "source": [
    "# Apply weights to feature extraction in extract_features_with_class_weights by using parameters such as X (input tokens), y(labels) and weight_dict (Class weights)\n",
    "def extract_features_with_class_weights(X, y, weight_dict):\n",
    "    features = []\n",
    "    labels = []\n",
    "    for sent_tokens, label_seq in zip(X, y):\n",
    "        sent_features = sent2features(sent_tokens)\n",
    "        weights = [weight_dict.get(label, 1.0) for label in label_seq]\n",
    "        features.append(sent_features)\n",
    "        labels.append(label_seq)\n",
    "    return features, labels"
   ]
  },
  {
   "cell_type": "markdown",
   "metadata": {
    "id": "51ABmKwKsaiz"
   },
   "source": [
    "##### **6.4.5** **Execute extract_features_with_class_weights on training and validation datasets** <font color = red>[2 marks]</font> <br>\n",
    "\n",
    "Create ***X_train_weighted_features*** and ***X_val_weighted_features*** for extracting training and validation features along with their weights by calling ***extract_features_with_class_weights*** on the datasets"
   ]
  },
  {
   "cell_type": "code",
   "execution_count": 84,
   "metadata": {
    "id": "-XUFFnm5sYE6"
   },
   "outputs": [],
   "source": [
    "# Apply manually computed class weights\n",
    "X_train_weighted_features, y_train_weighted_labels = extract_features_with_class_weights(X_train, y_train, weight_dict)\n",
    "X_val_weighted_features, y_val_weighted_labels = extract_features_with_class_weights(X_val, y_val, weight_dict)\n"
   ]
  },
  {
   "cell_type": "code",
   "execution_count": 85,
   "metadata": {},
   "outputs": [
    {
     "name": "stdout",
     "output_type": "stream",
     "text": [
      "Training samples: 196\n",
      "Training labels:  196\n",
      "\n",
      "Validation samples: 84\n",
      "Validation labels:  84\n"
     ]
    }
   ],
   "source": [
    "print(\"Training samples:\", len(X_train_weighted_features))\n",
    "print(\"Training labels: \", len(y_train_weighted_labels))\n",
    "\n",
    "\n",
    "print(\"\\nValidation samples:\", len(X_val_weighted_features))\n",
    "print(\"Validation labels: \", len(y_val_weighted_labels))\n"
   ]
  },
  {
   "cell_type": "markdown",
   "metadata": {
    "id": "Aah9bFDlAuzI"
   },
   "source": [
    "## **7** Model Building and Training <font color = red>[10 marks]</font> <br>"
   ]
  },
  {
   "cell_type": "markdown",
   "metadata": {
    "id": "axrvWR9TAuzJ"
   },
   "source": [
    "### **7.1** *Initialise the CRF model and train it* <font color = red>[5 marks]</font>\n",
    "Train the CRF model with the specified hyperparameters such as\n",
    "\n",
    "### CRF Model Hyperparameters Explanation\n",
    "\n",
    "| Parameter                  | Description |\n",
    "|----------------------------|-------------|\n",
    "| **algorithm='lbfgs'**      | Optimisation algorithm used for training. `lbfgs` (Limited-memory Broyden–Fletcher–Goldfarb–Shanno) is a quasi-Newton optimisation method. |\n",
    "| **c1=0.5**                | L1 regularisation term to control sparsity in feature weights. Helps in feature selection. |\n",
    "| **c2=1.0**                | L2 regularisation term to prevent overfitting by penalising large weights. |\n",
    "| **max_iterations=100**     | Maximum number of iterations for model training. Higher values allow more convergence but increase computation time. |\n",
    "| **all_possible_transitions=True** | Ensures that all possible state transitions are considered in training, making the model more robust. |\n",
    "\n",
    "Use weight_dict for training CRF\n",
    "\n"
   ]
  },
  {
   "cell_type": "code",
   "execution_count": 86,
   "metadata": {
    "id": "jig2J_n1AuzM"
   },
   "outputs": [],
   "source": [
    "# initialise CRF model with the specified hyperparameters and use weight_dict\n",
    "import sklearn_crfsuite\n",
    "from sklearn_crfsuite import CRF\n",
    "\n",
    "# Initialize the CRF model\n",
    "crf_model = CRF(\n",
    "    algorithm='lbfgs',\n",
    "    c1=0.5,\n",
    "    c2=1.0,\n",
    "    max_iterations=100,\n",
    "    all_possible_transitions=True\n",
    ")"
   ]
  },
  {
   "cell_type": "code",
   "execution_count": 87,
   "metadata": {},
   "outputs": [
    {
     "data": {
      "text/html": [
       "<style>#sk-container-id-1 {\n",
       "  /* Definition of color scheme common for light and dark mode */\n",
       "  --sklearn-color-text: #000;\n",
       "  --sklearn-color-text-muted: #666;\n",
       "  --sklearn-color-line: gray;\n",
       "  /* Definition of color scheme for unfitted estimators */\n",
       "  --sklearn-color-unfitted-level-0: #fff5e6;\n",
       "  --sklearn-color-unfitted-level-1: #f6e4d2;\n",
       "  --sklearn-color-unfitted-level-2: #ffe0b3;\n",
       "  --sklearn-color-unfitted-level-3: chocolate;\n",
       "  /* Definition of color scheme for fitted estimators */\n",
       "  --sklearn-color-fitted-level-0: #f0f8ff;\n",
       "  --sklearn-color-fitted-level-1: #d4ebff;\n",
       "  --sklearn-color-fitted-level-2: #b3dbfd;\n",
       "  --sklearn-color-fitted-level-3: cornflowerblue;\n",
       "\n",
       "  /* Specific color for light theme */\n",
       "  --sklearn-color-text-on-default-background: var(--sg-text-color, var(--theme-code-foreground, var(--jp-content-font-color1, black)));\n",
       "  --sklearn-color-background: var(--sg-background-color, var(--theme-background, var(--jp-layout-color0, white)));\n",
       "  --sklearn-color-border-box: var(--sg-text-color, var(--theme-code-foreground, var(--jp-content-font-color1, black)));\n",
       "  --sklearn-color-icon: #696969;\n",
       "\n",
       "  @media (prefers-color-scheme: dark) {\n",
       "    /* Redefinition of color scheme for dark theme */\n",
       "    --sklearn-color-text-on-default-background: var(--sg-text-color, var(--theme-code-foreground, var(--jp-content-font-color1, white)));\n",
       "    --sklearn-color-background: var(--sg-background-color, var(--theme-background, var(--jp-layout-color0, #111)));\n",
       "    --sklearn-color-border-box: var(--sg-text-color, var(--theme-code-foreground, var(--jp-content-font-color1, white)));\n",
       "    --sklearn-color-icon: #878787;\n",
       "  }\n",
       "}\n",
       "\n",
       "#sk-container-id-1 {\n",
       "  color: var(--sklearn-color-text);\n",
       "}\n",
       "\n",
       "#sk-container-id-1 pre {\n",
       "  padding: 0;\n",
       "}\n",
       "\n",
       "#sk-container-id-1 input.sk-hidden--visually {\n",
       "  border: 0;\n",
       "  clip: rect(1px 1px 1px 1px);\n",
       "  clip: rect(1px, 1px, 1px, 1px);\n",
       "  height: 1px;\n",
       "  margin: -1px;\n",
       "  overflow: hidden;\n",
       "  padding: 0;\n",
       "  position: absolute;\n",
       "  width: 1px;\n",
       "}\n",
       "\n",
       "#sk-container-id-1 div.sk-dashed-wrapped {\n",
       "  border: 1px dashed var(--sklearn-color-line);\n",
       "  margin: 0 0.4em 0.5em 0.4em;\n",
       "  box-sizing: border-box;\n",
       "  padding-bottom: 0.4em;\n",
       "  background-color: var(--sklearn-color-background);\n",
       "}\n",
       "\n",
       "#sk-container-id-1 div.sk-container {\n",
       "  /* jupyter's `normalize.less` sets `[hidden] { display: none; }`\n",
       "     but bootstrap.min.css set `[hidden] { display: none !important; }`\n",
       "     so we also need the `!important` here to be able to override the\n",
       "     default hidden behavior on the sphinx rendered scikit-learn.org.\n",
       "     See: https://github.com/scikit-learn/scikit-learn/issues/21755 */\n",
       "  display: inline-block !important;\n",
       "  position: relative;\n",
       "}\n",
       "\n",
       "#sk-container-id-1 div.sk-text-repr-fallback {\n",
       "  display: none;\n",
       "}\n",
       "\n",
       "div.sk-parallel-item,\n",
       "div.sk-serial,\n",
       "div.sk-item {\n",
       "  /* draw centered vertical line to link estimators */\n",
       "  background-image: linear-gradient(var(--sklearn-color-text-on-default-background), var(--sklearn-color-text-on-default-background));\n",
       "  background-size: 2px 100%;\n",
       "  background-repeat: no-repeat;\n",
       "  background-position: center center;\n",
       "}\n",
       "\n",
       "/* Parallel-specific style estimator block */\n",
       "\n",
       "#sk-container-id-1 div.sk-parallel-item::after {\n",
       "  content: \"\";\n",
       "  width: 100%;\n",
       "  border-bottom: 2px solid var(--sklearn-color-text-on-default-background);\n",
       "  flex-grow: 1;\n",
       "}\n",
       "\n",
       "#sk-container-id-1 div.sk-parallel {\n",
       "  display: flex;\n",
       "  align-items: stretch;\n",
       "  justify-content: center;\n",
       "  background-color: var(--sklearn-color-background);\n",
       "  position: relative;\n",
       "}\n",
       "\n",
       "#sk-container-id-1 div.sk-parallel-item {\n",
       "  display: flex;\n",
       "  flex-direction: column;\n",
       "}\n",
       "\n",
       "#sk-container-id-1 div.sk-parallel-item:first-child::after {\n",
       "  align-self: flex-end;\n",
       "  width: 50%;\n",
       "}\n",
       "\n",
       "#sk-container-id-1 div.sk-parallel-item:last-child::after {\n",
       "  align-self: flex-start;\n",
       "  width: 50%;\n",
       "}\n",
       "\n",
       "#sk-container-id-1 div.sk-parallel-item:only-child::after {\n",
       "  width: 0;\n",
       "}\n",
       "\n",
       "/* Serial-specific style estimator block */\n",
       "\n",
       "#sk-container-id-1 div.sk-serial {\n",
       "  display: flex;\n",
       "  flex-direction: column;\n",
       "  align-items: center;\n",
       "  background-color: var(--sklearn-color-background);\n",
       "  padding-right: 1em;\n",
       "  padding-left: 1em;\n",
       "}\n",
       "\n",
       "\n",
       "/* Toggleable style: style used for estimator/Pipeline/ColumnTransformer box that is\n",
       "clickable and can be expanded/collapsed.\n",
       "- Pipeline and ColumnTransformer use this feature and define the default style\n",
       "- Estimators will overwrite some part of the style using the `sk-estimator` class\n",
       "*/\n",
       "\n",
       "/* Pipeline and ColumnTransformer style (default) */\n",
       "\n",
       "#sk-container-id-1 div.sk-toggleable {\n",
       "  /* Default theme specific background. It is overwritten whether we have a\n",
       "  specific estimator or a Pipeline/ColumnTransformer */\n",
       "  background-color: var(--sklearn-color-background);\n",
       "}\n",
       "\n",
       "/* Toggleable label */\n",
       "#sk-container-id-1 label.sk-toggleable__label {\n",
       "  cursor: pointer;\n",
       "  display: flex;\n",
       "  width: 100%;\n",
       "  margin-bottom: 0;\n",
       "  padding: 0.5em;\n",
       "  box-sizing: border-box;\n",
       "  text-align: center;\n",
       "  align-items: start;\n",
       "  justify-content: space-between;\n",
       "  gap: 0.5em;\n",
       "}\n",
       "\n",
       "#sk-container-id-1 label.sk-toggleable__label .caption {\n",
       "  font-size: 0.6rem;\n",
       "  font-weight: lighter;\n",
       "  color: var(--sklearn-color-text-muted);\n",
       "}\n",
       "\n",
       "#sk-container-id-1 label.sk-toggleable__label-arrow:before {\n",
       "  /* Arrow on the left of the label */\n",
       "  content: \"▸\";\n",
       "  float: left;\n",
       "  margin-right: 0.25em;\n",
       "  color: var(--sklearn-color-icon);\n",
       "}\n",
       "\n",
       "#sk-container-id-1 label.sk-toggleable__label-arrow:hover:before {\n",
       "  color: var(--sklearn-color-text);\n",
       "}\n",
       "\n",
       "/* Toggleable content - dropdown */\n",
       "\n",
       "#sk-container-id-1 div.sk-toggleable__content {\n",
       "  max-height: 0;\n",
       "  max-width: 0;\n",
       "  overflow: hidden;\n",
       "  text-align: left;\n",
       "  /* unfitted */\n",
       "  background-color: var(--sklearn-color-unfitted-level-0);\n",
       "}\n",
       "\n",
       "#sk-container-id-1 div.sk-toggleable__content.fitted {\n",
       "  /* fitted */\n",
       "  background-color: var(--sklearn-color-fitted-level-0);\n",
       "}\n",
       "\n",
       "#sk-container-id-1 div.sk-toggleable__content pre {\n",
       "  margin: 0.2em;\n",
       "  border-radius: 0.25em;\n",
       "  color: var(--sklearn-color-text);\n",
       "  /* unfitted */\n",
       "  background-color: var(--sklearn-color-unfitted-level-0);\n",
       "}\n",
       "\n",
       "#sk-container-id-1 div.sk-toggleable__content.fitted pre {\n",
       "  /* unfitted */\n",
       "  background-color: var(--sklearn-color-fitted-level-0);\n",
       "}\n",
       "\n",
       "#sk-container-id-1 input.sk-toggleable__control:checked~div.sk-toggleable__content {\n",
       "  /* Expand drop-down */\n",
       "  max-height: 200px;\n",
       "  max-width: 100%;\n",
       "  overflow: auto;\n",
       "}\n",
       "\n",
       "#sk-container-id-1 input.sk-toggleable__control:checked~label.sk-toggleable__label-arrow:before {\n",
       "  content: \"▾\";\n",
       "}\n",
       "\n",
       "/* Pipeline/ColumnTransformer-specific style */\n",
       "\n",
       "#sk-container-id-1 div.sk-label input.sk-toggleable__control:checked~label.sk-toggleable__label {\n",
       "  color: var(--sklearn-color-text);\n",
       "  background-color: var(--sklearn-color-unfitted-level-2);\n",
       "}\n",
       "\n",
       "#sk-container-id-1 div.sk-label.fitted input.sk-toggleable__control:checked~label.sk-toggleable__label {\n",
       "  background-color: var(--sklearn-color-fitted-level-2);\n",
       "}\n",
       "\n",
       "/* Estimator-specific style */\n",
       "\n",
       "/* Colorize estimator box */\n",
       "#sk-container-id-1 div.sk-estimator input.sk-toggleable__control:checked~label.sk-toggleable__label {\n",
       "  /* unfitted */\n",
       "  background-color: var(--sklearn-color-unfitted-level-2);\n",
       "}\n",
       "\n",
       "#sk-container-id-1 div.sk-estimator.fitted input.sk-toggleable__control:checked~label.sk-toggleable__label {\n",
       "  /* fitted */\n",
       "  background-color: var(--sklearn-color-fitted-level-2);\n",
       "}\n",
       "\n",
       "#sk-container-id-1 div.sk-label label.sk-toggleable__label,\n",
       "#sk-container-id-1 div.sk-label label {\n",
       "  /* The background is the default theme color */\n",
       "  color: var(--sklearn-color-text-on-default-background);\n",
       "}\n",
       "\n",
       "/* On hover, darken the color of the background */\n",
       "#sk-container-id-1 div.sk-label:hover label.sk-toggleable__label {\n",
       "  color: var(--sklearn-color-text);\n",
       "  background-color: var(--sklearn-color-unfitted-level-2);\n",
       "}\n",
       "\n",
       "/* Label box, darken color on hover, fitted */\n",
       "#sk-container-id-1 div.sk-label.fitted:hover label.sk-toggleable__label.fitted {\n",
       "  color: var(--sklearn-color-text);\n",
       "  background-color: var(--sklearn-color-fitted-level-2);\n",
       "}\n",
       "\n",
       "/* Estimator label */\n",
       "\n",
       "#sk-container-id-1 div.sk-label label {\n",
       "  font-family: monospace;\n",
       "  font-weight: bold;\n",
       "  display: inline-block;\n",
       "  line-height: 1.2em;\n",
       "}\n",
       "\n",
       "#sk-container-id-1 div.sk-label-container {\n",
       "  text-align: center;\n",
       "}\n",
       "\n",
       "/* Estimator-specific */\n",
       "#sk-container-id-1 div.sk-estimator {\n",
       "  font-family: monospace;\n",
       "  border: 1px dotted var(--sklearn-color-border-box);\n",
       "  border-radius: 0.25em;\n",
       "  box-sizing: border-box;\n",
       "  margin-bottom: 0.5em;\n",
       "  /* unfitted */\n",
       "  background-color: var(--sklearn-color-unfitted-level-0);\n",
       "}\n",
       "\n",
       "#sk-container-id-1 div.sk-estimator.fitted {\n",
       "  /* fitted */\n",
       "  background-color: var(--sklearn-color-fitted-level-0);\n",
       "}\n",
       "\n",
       "/* on hover */\n",
       "#sk-container-id-1 div.sk-estimator:hover {\n",
       "  /* unfitted */\n",
       "  background-color: var(--sklearn-color-unfitted-level-2);\n",
       "}\n",
       "\n",
       "#sk-container-id-1 div.sk-estimator.fitted:hover {\n",
       "  /* fitted */\n",
       "  background-color: var(--sklearn-color-fitted-level-2);\n",
       "}\n",
       "\n",
       "/* Specification for estimator info (e.g. \"i\" and \"?\") */\n",
       "\n",
       "/* Common style for \"i\" and \"?\" */\n",
       "\n",
       ".sk-estimator-doc-link,\n",
       "a:link.sk-estimator-doc-link,\n",
       "a:visited.sk-estimator-doc-link {\n",
       "  float: right;\n",
       "  font-size: smaller;\n",
       "  line-height: 1em;\n",
       "  font-family: monospace;\n",
       "  background-color: var(--sklearn-color-background);\n",
       "  border-radius: 1em;\n",
       "  height: 1em;\n",
       "  width: 1em;\n",
       "  text-decoration: none !important;\n",
       "  margin-left: 0.5em;\n",
       "  text-align: center;\n",
       "  /* unfitted */\n",
       "  border: var(--sklearn-color-unfitted-level-1) 1pt solid;\n",
       "  color: var(--sklearn-color-unfitted-level-1);\n",
       "}\n",
       "\n",
       ".sk-estimator-doc-link.fitted,\n",
       "a:link.sk-estimator-doc-link.fitted,\n",
       "a:visited.sk-estimator-doc-link.fitted {\n",
       "  /* fitted */\n",
       "  border: var(--sklearn-color-fitted-level-1) 1pt solid;\n",
       "  color: var(--sklearn-color-fitted-level-1);\n",
       "}\n",
       "\n",
       "/* On hover */\n",
       "div.sk-estimator:hover .sk-estimator-doc-link:hover,\n",
       ".sk-estimator-doc-link:hover,\n",
       "div.sk-label-container:hover .sk-estimator-doc-link:hover,\n",
       ".sk-estimator-doc-link:hover {\n",
       "  /* unfitted */\n",
       "  background-color: var(--sklearn-color-unfitted-level-3);\n",
       "  color: var(--sklearn-color-background);\n",
       "  text-decoration: none;\n",
       "}\n",
       "\n",
       "div.sk-estimator.fitted:hover .sk-estimator-doc-link.fitted:hover,\n",
       ".sk-estimator-doc-link.fitted:hover,\n",
       "div.sk-label-container:hover .sk-estimator-doc-link.fitted:hover,\n",
       ".sk-estimator-doc-link.fitted:hover {\n",
       "  /* fitted */\n",
       "  background-color: var(--sklearn-color-fitted-level-3);\n",
       "  color: var(--sklearn-color-background);\n",
       "  text-decoration: none;\n",
       "}\n",
       "\n",
       "/* Span, style for the box shown on hovering the info icon */\n",
       ".sk-estimator-doc-link span {\n",
       "  display: none;\n",
       "  z-index: 9999;\n",
       "  position: relative;\n",
       "  font-weight: normal;\n",
       "  right: .2ex;\n",
       "  padding: .5ex;\n",
       "  margin: .5ex;\n",
       "  width: min-content;\n",
       "  min-width: 20ex;\n",
       "  max-width: 50ex;\n",
       "  color: var(--sklearn-color-text);\n",
       "  box-shadow: 2pt 2pt 4pt #999;\n",
       "  /* unfitted */\n",
       "  background: var(--sklearn-color-unfitted-level-0);\n",
       "  border: .5pt solid var(--sklearn-color-unfitted-level-3);\n",
       "}\n",
       "\n",
       ".sk-estimator-doc-link.fitted span {\n",
       "  /* fitted */\n",
       "  background: var(--sklearn-color-fitted-level-0);\n",
       "  border: var(--sklearn-color-fitted-level-3);\n",
       "}\n",
       "\n",
       ".sk-estimator-doc-link:hover span {\n",
       "  display: block;\n",
       "}\n",
       "\n",
       "/* \"?\"-specific style due to the `<a>` HTML tag */\n",
       "\n",
       "#sk-container-id-1 a.estimator_doc_link {\n",
       "  float: right;\n",
       "  font-size: 1rem;\n",
       "  line-height: 1em;\n",
       "  font-family: monospace;\n",
       "  background-color: var(--sklearn-color-background);\n",
       "  border-radius: 1rem;\n",
       "  height: 1rem;\n",
       "  width: 1rem;\n",
       "  text-decoration: none;\n",
       "  /* unfitted */\n",
       "  color: var(--sklearn-color-unfitted-level-1);\n",
       "  border: var(--sklearn-color-unfitted-level-1) 1pt solid;\n",
       "}\n",
       "\n",
       "#sk-container-id-1 a.estimator_doc_link.fitted {\n",
       "  /* fitted */\n",
       "  border: var(--sklearn-color-fitted-level-1) 1pt solid;\n",
       "  color: var(--sklearn-color-fitted-level-1);\n",
       "}\n",
       "\n",
       "/* On hover */\n",
       "#sk-container-id-1 a.estimator_doc_link:hover {\n",
       "  /* unfitted */\n",
       "  background-color: var(--sklearn-color-unfitted-level-3);\n",
       "  color: var(--sklearn-color-background);\n",
       "  text-decoration: none;\n",
       "}\n",
       "\n",
       "#sk-container-id-1 a.estimator_doc_link.fitted:hover {\n",
       "  /* fitted */\n",
       "  background-color: var(--sklearn-color-fitted-level-3);\n",
       "}\n",
       "</style><div id=\"sk-container-id-1\" class=\"sk-top-container\"><div class=\"sk-text-repr-fallback\"><pre>CRF(algorithm=&#x27;lbfgs&#x27;, all_possible_transitions=True, c1=0.5, c2=1.0,\n",
       "    max_iterations=100)</pre><b>In a Jupyter environment, please rerun this cell to show the HTML representation or trust the notebook. <br />On GitHub, the HTML representation is unable to render, please try loading this page with nbviewer.org.</b></div><div class=\"sk-container\" hidden><div class=\"sk-item\"><div class=\"sk-estimator fitted sk-toggleable\"><input class=\"sk-toggleable__control sk-hidden--visually\" id=\"sk-estimator-id-1\" type=\"checkbox\" checked><label for=\"sk-estimator-id-1\" class=\"sk-toggleable__label fitted sk-toggleable__label-arrow\"><div><div>CRF</div></div><div><span class=\"sk-estimator-doc-link fitted\">i<span>Fitted</span></span></div></label><div class=\"sk-toggleable__content fitted\"><pre>CRF(algorithm=&#x27;lbfgs&#x27;, all_possible_transitions=True, c1=0.5, c2=1.0,\n",
       "    max_iterations=100)</pre></div> </div></div></div></div>"
      ],
      "text/plain": [
       "CRF(algorithm='lbfgs', all_possible_transitions=True, c1=0.5, c2=1.0,\n",
       "    max_iterations=100)"
      ]
     },
     "execution_count": 87,
     "metadata": {},
     "output_type": "execute_result"
    }
   ],
   "source": [
    "# train the CRF model with the weighted training data\n",
    "crf_model.fit(\n",
    "    X_train_weighted_features,\n",
    "    y_train_weighted_labels\n",
    ")\n"
   ]
  },
  {
   "cell_type": "markdown",
   "metadata": {
    "id": "sDLwvYqOF6m_"
   },
   "source": [
    "### **7.2** *Evaluation of Training Dataset using CRF model* <font color = red>[4 marks]</font>\n",
    "Evaluate on training dataset using CRF by using flat classification report and confusion matrix"
   ]
  },
  {
   "cell_type": "code",
   "execution_count": 88,
   "metadata": {
    "id": "Us57jWSQ6laL"
   },
   "outputs": [],
   "source": [
    "# evaluate on the training dataset\n",
    "y_train_pred = crf_model.predict(X_train_weighted_features)\n"
   ]
  },
  {
   "cell_type": "code",
   "execution_count": 89,
   "metadata": {
    "id": "gNGZnd-D6oq3"
   },
   "outputs": [
    {
     "name": "stdout",
     "output_type": "stream",
     "text": [
      "Classification Report on Training Data:\n",
      "              precision    recall  f1-score   support\n",
      "\n",
      "  ingredient      0.993     0.996     0.994      5323\n",
      "    quantity      0.996     0.986     0.991       980\n",
      "        unit      0.976     0.970     0.973       811\n",
      "\n",
      "    accuracy                          0.991      7114\n",
      "   macro avg      0.988     0.984     0.986      7114\n",
      "weighted avg      0.991     0.991     0.991      7114\n",
      "\n"
     ]
    }
   ],
   "source": [
    "# specify the flat classification report by using training data for evaluation\n",
    "print(\"Classification Report on Training Data:\")\n",
    "print(metrics.flat_classification_report(\n",
    "    y_train_weighted_labels,      # true labels\n",
    "    y_train_pred,                 # predicted labels\n",
    "    digits=3                      # precision for floating points\n",
    "))\n"
   ]
  },
  {
   "cell_type": "code",
   "execution_count": 90,
   "metadata": {
    "id": "GqP9WBvJ63qm"
   },
   "outputs": [],
   "source": [
    "# create a confusion matrix on training datset\n",
    "from sklearn_crfsuite import metrics\n",
    "from sklearn.metrics import confusion_matrix, ConfusionMatrixDisplay\n",
    "import matplotlib.pyplot as plt\n"
   ]
  },
  {
   "cell_type": "code",
   "execution_count": 91,
   "metadata": {},
   "outputs": [],
   "source": [
    "y_true_flat = [label for seq in y_train_weighted_labels for label in seq]\n",
    "y_pred_flat = [label for seq in y_train_pred for label in seq]"
   ]
  },
  {
   "cell_type": "code",
   "execution_count": 92,
   "metadata": {},
   "outputs": [],
   "source": [
    "labels = sorted(list(set(y_true_flat + y_pred_flat)))"
   ]
  },
  {
   "cell_type": "code",
   "execution_count": 93,
   "metadata": {},
   "outputs": [],
   "source": [
    "cm = confusion_matrix(y_true_flat, y_pred_flat, labels=labels)"
   ]
  },
  {
   "cell_type": "code",
   "execution_count": 94,
   "metadata": {},
   "outputs": [
    {
     "data": {
      "text/plain": [
       "<Figure size 1000x800 with 0 Axes>"
      ]
     },
     "metadata": {},
     "output_type": "display_data"
    },
    {
     "data": {
      "image/png": "[encoded data removed]",
      "text/plain": [
       "<Figure size 640x480 with 2 Axes>"
      ]
     },
     "metadata": {},
     "output_type": "display_data"
    }
   ],
   "source": [
    "labels = sorted(list(set(y_true_flat + y_pred_flat)))\n",
    "disp = ConfusionMatrixDisplay(confusion_matrix=cm, display_labels=labels)\n",
    "\n",
    "plt.figure(figsize=(10, 8))\n",
    "disp.plot(xticks_rotation=45, cmap='Blues')\n",
    "plt.title(\"Confusion Matrix on Training Data\")\n",
    "plt.tight_layout()\n",
    "plt.show()"
   ]
  },
  {
   "cell_type": "markdown",
   "metadata": {
    "id": "Yps2-XscGuHc"
   },
   "source": [
    "### **7.3** *Save the CRF model* <font color = red>[1 marks]</font>\n",
    "Save the CRF model"
   ]
  },
  {
   "cell_type": "code",
   "execution_count": 95,
   "metadata": {
    "id": "iAYDLatcGzEN"
   },
   "outputs": [
    {
     "name": "stdout",
     "output_type": "stream",
     "text": [
      "CRF model saved as 'crf_model.pkl'\n"
     ]
    }
   ],
   "source": [
    "# dump the model using joblib as crf_model.pkl\n",
    "joblib.dump(crf_model, 'crf_model.pkl')\n",
    "print(\"CRF model saved as 'crf_model.pkl'\")"
   ]
  },
  {
   "cell_type": "code",
   "execution_count": 96,
   "metadata": {},
   "outputs": [
    {
     "name": "stdout",
     "output_type": "stream",
     "text": [
      "CRF model loaded from 'crf_model.pkl'\n"
     ]
    }
   ],
   "source": [
    "crf_model = joblib.load('crf_model.pkl')\n",
    "print(\"CRF model loaded from 'crf_model.pkl'\")"
   ]
  },
  {
   "cell_type": "markdown",
   "metadata": {
    "id": "agM32oUlBo1K"
   },
   "source": [
    "## **8** Prediction and Model Evaluation <font color = red>[3 marks]</font> <br>"
   ]
  },
  {
   "cell_type": "markdown",
   "metadata": {
    "id": "b5BYmkTrBo1L"
   },
   "source": [
    "### **8.1** *Predict and Evaluate the CRF model on validation set* <font color = red>[3 marks]</font>\n",
    "Evaluate the metrics for CRF model by using flat classification report and confusion matrix\n",
    "\n",
    "\n"
   ]
  },
  {
   "cell_type": "code",
   "execution_count": 97,
   "metadata": {
    "id": "qhH6Sp8tBo1M"
   },
   "outputs": [],
   "source": [
    "# predict the crf model on validation dataset\n",
    "y_val_pred = crf_model.predict(X_val_weighted_features)\n"
   ]
  },
  {
   "cell_type": "code",
   "execution_count": 98,
   "metadata": {
    "id": "SMktt_w1kovB"
   },
   "outputs": [
    {
     "name": "stdout",
     "output_type": "stream",
     "text": [
      "Classification Report on Validation Data:\n",
      "              precision    recall  f1-score   support\n",
      "\n",
      "  ingredient      0.984     0.996     0.990      2107\n",
      "    quantity      0.988     0.985     0.987       411\n",
      "        unit      0.979     0.911     0.944       358\n",
      "\n",
      "    accuracy                          0.984      2876\n",
      "   macro avg      0.983     0.964     0.973      2876\n",
      "weighted avg      0.984     0.984     0.983      2876\n",
      "\n"
     ]
    }
   ],
   "source": [
    "# specify flat classification report\n",
    "print(\"Classification Report on Validation Data:\")\n",
    "print(metrics.flat_classification_report(\n",
    "    y_pred=y_val_pred,\n",
    "    y_true=y_val_weighted_labels,\n",
    "    digits=3  # show scores with 3 decimal places\n",
    "))\n"
   ]
  },
  {
   "cell_type": "code",
   "execution_count": 99,
   "metadata": {
    "id": "eI2tUBRRk4jK"
   },
   "outputs": [],
   "source": [
    "# create a confusion matrix on validation dataset\n",
    "y_val_true_flat = [label for seq in y_val_weighted_labels for label in seq]\n",
    "y_val_pred_flat = [label for seq in y_val_pred for label in seq]\n"
   ]
  },
  {
   "cell_type": "code",
   "execution_count": 100,
   "metadata": {
    "scrolled": true
   },
   "outputs": [
    {
     "data": {
      "text/plain": [
       "<Figure size 1000x800 with 0 Axes>"
      ]
     },
     "metadata": {},
     "output_type": "display_data"
    },
    {
     "data": {
      "image/png": "[encoded data removed]",
      "text/plain": [
       "<Figure size 640x480 with 2 Axes>"
      ]
     },
     "metadata": {},
     "output_type": "display_data"
    }
   ],
   "source": [
    "# Generate confusion matrix\n",
    "cm = confusion_matrix(y_val_true_flat, y_val_pred_flat, labels=labels)\n",
    "\n",
    "# Display the matrix\n",
    "disp = ConfusionMatrixDisplay(confusion_matrix=cm, display_labels=labels)\n",
    "plt.figure(figsize=(10, 8))\n",
    "disp.plot(xticks_rotation=45, cmap='Blues')\n",
    "plt.title(\"Confusion Matrix on Validation Data\")\n",
    "plt.tight_layout()\n",
    "plt.show()"
   ]
  },
  {
   "cell_type": "markdown",
   "metadata": {
    "id": "8pD6hD3NEV3q"
   },
   "source": [
    "## **9** Error Analysis on Validation Data <font color = red>[10 marks]</font> <br>\n",
    "Investigate misclassified samples in validation dataset and provide the insights\n"
   ]
  },
  {
   "cell_type": "markdown",
   "metadata": {
    "id": "R9tUvjrzFjib"
   },
   "source": [
    "### **9.1** *Investigate misclassified samples in validation dataset* <font color = red>[8 marks]</font>\n",
    "\n"
   ]
  },
  {
   "cell_type": "markdown",
   "metadata": {
    "id": "Lb15uObqxKe4"
   },
   "source": [
    "##### **9.1.1** Flatten the labels of validation data and initialise error data <font color = red>[2 marks]</font> <br>\n",
    "\n",
    "\n",
    "\n",
    "Flatten the true and predicted labels and initialise the error data as ***error_data***"
   ]
  },
  {
   "cell_type": "code",
   "execution_count": 101,
   "metadata": {
    "id": "gbgYAjd-UzkI"
   },
   "outputs": [],
   "source": [
    "# flatten Labels and Initialise Error Data\n",
    "error_data = []\n",
    "\n",
    "for true_label, pred_label in zip(y_val_true_flat, y_val_pred_flat):\n",
    "    if true_label != pred_label:\n",
    "        error_data.append((true_label, pred_label))\n"
   ]
  },
  {
   "cell_type": "code",
   "execution_count": 102,
   "metadata": {},
   "outputs": [
    {
     "name": "stdout",
     "output_type": "stream",
     "text": [
      "Sample misclassified labels:\n",
      "1. True: ingredient, Predicted: quantity\n",
      "2. True: ingredient, Predicted: unit\n",
      "3. True: unit, Predicted: ingredient\n",
      "4. True: quantity, Predicted: ingredient\n",
      "5. True: ingredient, Predicted: quantity\n",
      "6. True: quantity, Predicted: ingredient\n",
      "7. True: quantity, Predicted: ingredient\n",
      "8. True: quantity, Predicted: ingredient\n",
      "9. True: unit, Predicted: ingredient\n",
      "10. True: unit, Predicted: ingredient\n"
     ]
    }
   ],
   "source": [
    "print(\"Sample misclassified labels:\")\n",
    "for i, (true, pred) in enumerate(error_data[:10]):\n",
    "    print(f\"{i+1}. True: {true}, Predicted: {pred}\")"
   ]
  },
  {
   "cell_type": "markdown",
   "metadata": {
    "id": "LS9foWfdXHOg"
   },
   "source": [
    "##### **9.1.2** Iterate the validation data and collect Error Information<font color = red> [2 marks]</font> <br>\n",
    "\n",
    "\n",
    "\n",
    "Iterate through validation data (X_val, y_val_labels, y_pred_val) and compare true vs. predicted labels. Collect error details, including surrounding context, previous/next tokens, and class weights, then store them in error_data"
   ]
  },
  {
   "cell_type": "code",
   "execution_count": 103,
   "metadata": {
    "id": "_VKLc1s0U0yY"
   },
   "outputs": [],
   "source": [
    "# iterate and collect Error Information\n",
    "\n",
    "            # get previous and next tokens with handling for boundary cases\n",
    "\n",
    "error_data = []\n",
    "\n",
    "for sent_idx in range(len(X_val_weighted_features)):\n",
    "    features = X_val_weighted_features[sent_idx]\n",
    "    true_labels = y_val_weighted_labels[sent_idx]\n",
    "    pred_labels = y_val_pred[sent_idx]\n",
    "\n",
    "    for i, (true_label, pred_label) in enumerate(zip(true_labels, pred_labels)):\n",
    "        if true_label != pred_label:\n",
    "            # Get the current token\n",
    "            token = features[i]['token'] if 'token' in features[i] else 'UNK'\n",
    "\n",
    "            # Get previous and next tokens if available\n",
    "            prev_token = features[i - 1]['token'] if i > 0 else 'BOS'\n",
    "            next_token = features[i + 1]['token'] if i < len(features) - 1 else 'EOS'\n",
    "\n",
    "            # Get class weight for the true label\n",
    "            weight = weight_dict.get(true_label, 1.0)\n",
    "\n",
    "            # Collect error details\n",
    "            error_data.append({\n",
    "                'sentence_index': sent_idx,\n",
    "                'token_index': i,\n",
    "                'token': token,\n",
    "                'true_label': true_label,\n",
    "                'predicted_label': pred_label,\n",
    "                'prev_token': prev_token,\n",
    "                'next_token': next_token,\n",
    "                'class_weight': weight\n",
    "            })\n",
    "\n"
   ]
  },
  {
   "cell_type": "code",
   "execution_count": 104,
   "metadata": {},
   "outputs": [
    {
     "name": "stdout",
     "output_type": "stream",
     "text": [
      "Sample Misclassifications with Context:\n",
      "\n",
      "Token: few\n",
      "True Label: ingredient | Predicted Label: quantity\n",
      "Prev: leaves | Next: EOS\n",
      "Sentence Index: 2 | Token Index: 34\n",
      "Class Weight: 2.672928799549126\n",
      "\n",
      "Token: cloves\n",
      "True Label: ingredient | Predicted Label: unit\n",
      "Prev: 3 | Next: garlic\n",
      "Sentence Index: 5 | Token Index: 18\n",
      "Class Weight: 2.672928799549126\n",
      "\n",
      "Token: spoon\n",
      "True Label: unit | Predicted Label: ingredient\n",
      "Prev: big | Next: oil\n",
      "Sentence Index: 5 | Token Index: 21\n",
      "Class Weight: 8.771886559802713\n",
      "\n",
      "Token: is\n",
      "True Label: quantity | Predicted Label: ingredient\n",
      "Prev: pur | Next: 2\n",
      "Sentence Index: 13 | Token Index: 3\n",
      "Class Weight: 7.259183673469388\n",
      "\n",
      "Token: few\n",
      "True Label: ingredient | Predicted Label: quantity\n",
      "Prev: leaves | Next: EOS\n",
      "Sentence Index: 15 | Token Index: 56\n",
      "Class Weight: 2.672928799549126\n"
     ]
    }
   ],
   "source": [
    "print(\"Sample Misclassifications with Context:\")\n",
    "for err in error_data[:5]:\n",
    "    print(f\"\\nToken: {err['token']}\")\n",
    "    print(f\"True Label: {err['true_label']} | Predicted Label: {err['predicted_label']}\")\n",
    "    print(f\"Prev: {err['prev_token']} | Next: {err['next_token']}\")\n",
    "    print(f\"Sentence Index: {err['sentence_index']} | Token Index: {err['token_index']}\")\n",
    "    print(f\"Class Weight: {err['class_weight']}\")"
   ]
  },
  {
   "cell_type": "markdown",
   "metadata": {
    "id": "G_R8CCAFZSzF"
   },
   "source": [
    "##### **9.1.3** Create dataframe from error_data and print overall accuracy <font color = red>[1 marks]</font> <br>\n",
    "\n",
    "\n",
    "\n",
    "Change error_data into dataframe and then use it to illustrate the overall accuracy of validation data"
   ]
  },
  {
   "cell_type": "code",
   "execution_count": 105,
   "metadata": {
    "id": "fUffRP7XU3YC"
   },
   "outputs": [
    {
     "name": "stdout",
     "output_type": "stream",
     "text": [
      "\n",
      "Validation Accuracy: 0.984 (2829 correct out of 2876)\n"
     ]
    }
   ],
   "source": [
    "# Create DataFrame and Print Overall Accuracy\n",
    "\n",
    "total_tokens = len(y_val_true_flat)\n",
    "\n",
    "error_df = pd.DataFrame(error_data)\n",
    "\n",
    "# Total misclassified tokens\n",
    "num_errors = len(error_df)\n",
    "\n",
    "# Compute accuracy\n",
    "accuracy = (total_tokens - num_errors) / total_tokens\n",
    "\n",
    "print(f\"\\nValidation Accuracy: {accuracy:.3f} ({total_tokens - num_errors} correct out of {total_tokens})\")\n"
   ]
  },
  {
   "cell_type": "markdown",
   "metadata": {
    "id": "8OUYHFmgZhgJ"
   },
   "source": [
    "##### **9.1.4** Analyse errors by label type<font color = red> [3 marks]</font> <br>\n",
    "Analyse errors found in the validation data by each label and display their class weights along with accuracy and also display the error dataframe with token,  previous token, next token, true label, predicted label and context"
   ]
  },
  {
   "cell_type": "code",
   "execution_count": 106,
   "metadata": {
    "id": "zu8CtjU6WR9l"
   },
   "outputs": [],
   "source": [
    "# Analyse errors found in the validation data by each label\n",
    "# and display their class weights along with accuracy\n",
    "# and display the error dataframe with token, previous token, next token, true label, predicted label and context\n",
    "\n",
    "# Total label counts in validation data\n",
    "label_totals = pd.Series(y_val_true_flat).value_counts().to_dict()\n",
    "\n",
    "# Group errors by true label\n",
    "error_summary = []\n",
    "\n",
    "for label, group_df in error_df.groupby('true_label'):\n",
    "    total = label_totals.get(label, 0)\n",
    "    errors = len(group_df)\n",
    "    accuracy = (total - errors) / total if total else 0\n",
    "    weight = weight_dict.get(label, 1.0)\n",
    "\n",
    "    error_summary.append({\n",
    "        'Label': label,\n",
    "        'Errors': errors,\n",
    "        'Total Tokens': total,\n",
    "        'Accuracy': round(accuracy, 3),\n",
    "        'Class Weight': round(weight, 2)\n",
    "    })\n",
    "\n",
    "# Convert to DataFrame\n",
    "error_analysis_df = pd.DataFrame(error_summary).sort_values(by='Errors', ascending=False)\n"
   ]
  },
  {
   "cell_type": "code",
   "execution_count": 107,
   "metadata": {},
   "outputs": [
    {
     "name": "stdout",
     "output_type": "stream",
     "text": [
      "Error Summary by Label:\n",
      "        Label  Errors  Total Tokens  Accuracy  Class Weight\n",
      "2        unit      32           358     0.911          8.77\n",
      "0  ingredient       9          2107     0.996          2.67\n",
      "1    quantity       6           411     0.985          7.26\n"
     ]
    }
   ],
   "source": [
    "print(\"Error Summary by Label:\")\n",
    "print(error_analysis_df)"
   ]
  },
  {
   "cell_type": "markdown",
   "metadata": {
    "id": "Q3n74kVvEV3q"
   },
   "source": [
    "### **9.2** *Provide insights from the validation dataset* <font color = red>[2 marks]</font>\n",
    "\n",
    "\n"
   ]
  },
  {
   "cell_type": "markdown",
   "metadata": {
    "id": "aWZdf1O_vWnD"
   },
   "source": [
    " <font color = red>[Write your answer]</font>"
   ]
  },
  {
   "cell_type": "markdown",
   "metadata": {},
   "source": [
    "Your model achieves a high accuracy on the validation set — meaning it is learning meaningful token-label mappings.\n",
    "\n",
    "Still, there are certain weak spots in distinguishing similar labels, especially ingredient, unit, and quantity.\n",
    "\n"
   ]
  },
  {
   "cell_type": "markdown",
   "metadata": {
    "id": "qUjFPBMxH20n"
   },
   "source": [
    "## **10** Conclusion (Optional) <font color = red>[0 marks]</font> <br>\n",
    "\n",
    "Write your findings and conclusion."
   ]
  },
  {
   "cell_type": "code",
   "execution_count": null,
   "metadata": {},
   "outputs": [],
   "source": []
  },
  {
   "cell_type": "code",
   "execution_count": null,
   "metadata": {},
   "outputs": [],
   "source": []
  },
  {
   "cell_type": "code",
   "execution_count": null,
   "metadata": {},
   "outputs": [],
   "source": []
  },
  {
   "cell_type": "code",
   "execution_count": null,
   "metadata": {},
   "outputs": [],
   "source": []
  }
 ],
 "metadata": {
  "colab": {
   "collapsed_sections": [
    "-ksMVNgeyiLN",
    "1y18LwoqyFpk",
    "bhNG_XC1r4Qw",
    "-JtvsBYur-oV",
    "dpJQu3JE_P7Z",
    "JbriClEV9CW5",
    "Qtqtij2-CD2m",
    "_RJEStPSC9PB",
    "qJdYJ2TEDBzd",
    "hJm2nUw0998s"
   ],
   "provenance": [],
   "toc_visible": true
  },
  "kernelspec": {
   "display_name": "Python (nlp)",
   "language": "python",
   "name": "nlp"
  },
  "language_info": {
   "codemirror_mode": {
    "name": "ipython",
    "version": 3
   },
   "file_extension": ".py",
   "mimetype": "text/x-python",
   "name": "python",
   "nbconvert_exporter": "python",
   "pygments_lexer": "ipython3",
   "version": "3.9.10"
  }
 },
 "nbformat": 4,
 "nbformat_minor": 4
}
